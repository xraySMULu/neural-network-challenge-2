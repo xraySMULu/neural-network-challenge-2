{
 "cells": [
  {
   "cell_type": "markdown",
   "metadata": {
    "id": "alIIEHibGc3M"
   },
   "source": [
    "## Part 1: Preprocessing"
   ]
  },
  {
   "cell_type": "code",
   "execution_count": 2,
   "metadata": {
    "colab": {
     "base_uri": "https://localhost:8080/",
     "height": 325
    },
    "executionInfo": {
     "elapsed": 12323,
     "status": "ok",
     "timestamp": 1730699226906,
     "user": {
      "displayName": "Alexander Booth",
      "userId": "02269714993535573104"
     },
     "user_tz": 360
    },
    "id": "6eDUJ4NtGc3P",
    "outputId": "eeae54b5-3d17-442d-94ba-00dd55b89964"
   },
   "outputs": [
    {
     "data": {
      "application/vnd.microsoft.datawrangler.viewer.v0+json": {
       "columns": [
        {
         "name": "index",
         "rawType": "int64",
         "type": "integer"
        },
        {
         "name": "Age",
         "rawType": "int64",
         "type": "integer"
        },
        {
         "name": "Attrition",
         "rawType": "object",
         "type": "string"
        },
        {
         "name": "BusinessTravel",
         "rawType": "object",
         "type": "string"
        },
        {
         "name": "Department",
         "rawType": "object",
         "type": "string"
        },
        {
         "name": "DistanceFromHome",
         "rawType": "int64",
         "type": "integer"
        },
        {
         "name": "Education",
         "rawType": "int64",
         "type": "integer"
        },
        {
         "name": "EducationField",
         "rawType": "object",
         "type": "string"
        },
        {
         "name": "EnvironmentSatisfaction",
         "rawType": "int64",
         "type": "integer"
        },
        {
         "name": "HourlyRate",
         "rawType": "int64",
         "type": "integer"
        },
        {
         "name": "JobInvolvement",
         "rawType": "int64",
         "type": "integer"
        },
        {
         "name": "JobLevel",
         "rawType": "int64",
         "type": "integer"
        },
        {
         "name": "JobRole",
         "rawType": "object",
         "type": "string"
        },
        {
         "name": "JobSatisfaction",
         "rawType": "int64",
         "type": "integer"
        },
        {
         "name": "MaritalStatus",
         "rawType": "object",
         "type": "string"
        },
        {
         "name": "NumCompaniesWorked",
         "rawType": "int64",
         "type": "integer"
        },
        {
         "name": "OverTime",
         "rawType": "object",
         "type": "string"
        },
        {
         "name": "PercentSalaryHike",
         "rawType": "int64",
         "type": "integer"
        },
        {
         "name": "PerformanceRating",
         "rawType": "int64",
         "type": "integer"
        },
        {
         "name": "RelationshipSatisfaction",
         "rawType": "int64",
         "type": "integer"
        },
        {
         "name": "StockOptionLevel",
         "rawType": "int64",
         "type": "integer"
        },
        {
         "name": "TotalWorkingYears",
         "rawType": "int64",
         "type": "integer"
        },
        {
         "name": "TrainingTimesLastYear",
         "rawType": "int64",
         "type": "integer"
        },
        {
         "name": "WorkLifeBalance",
         "rawType": "int64",
         "type": "integer"
        },
        {
         "name": "YearsAtCompany",
         "rawType": "int64",
         "type": "integer"
        },
        {
         "name": "YearsInCurrentRole",
         "rawType": "int64",
         "type": "integer"
        },
        {
         "name": "YearsSinceLastPromotion",
         "rawType": "int64",
         "type": "integer"
        },
        {
         "name": "YearsWithCurrManager",
         "rawType": "int64",
         "type": "integer"
        }
       ],
       "conversionMethod": "pd.DataFrame",
       "ref": "a6672a8c-6055-4ee3-9e48-0a8949729126",
       "rows": [
        [
         "0",
         "41",
         "Yes",
         "Travel_Rarely",
         "Sales",
         "1",
         "2",
         "Life Sciences",
         "2",
         "94",
         "3",
         "2",
         "Sales Executive",
         "4",
         "Single",
         "8",
         "Yes",
         "11",
         "3",
         "1",
         "0",
         "8",
         "0",
         "1",
         "6",
         "4",
         "0",
         "5"
        ],
        [
         "1",
         "49",
         "No",
         "Travel_Frequently",
         "Research & Development",
         "8",
         "1",
         "Life Sciences",
         "3",
         "61",
         "2",
         "2",
         "Research Scientist",
         "2",
         "Married",
         "1",
         "No",
         "23",
         "4",
         "4",
         "1",
         "10",
         "3",
         "3",
         "10",
         "7",
         "1",
         "7"
        ],
        [
         "2",
         "37",
         "Yes",
         "Travel_Rarely",
         "Research & Development",
         "2",
         "2",
         "Other",
         "4",
         "92",
         "2",
         "1",
         "Laboratory Technician",
         "3",
         "Single",
         "6",
         "Yes",
         "15",
         "3",
         "2",
         "0",
         "7",
         "3",
         "3",
         "0",
         "0",
         "0",
         "0"
        ],
        [
         "3",
         "33",
         "No",
         "Travel_Frequently",
         "Research & Development",
         "3",
         "4",
         "Life Sciences",
         "4",
         "56",
         "3",
         "1",
         "Research Scientist",
         "3",
         "Married",
         "1",
         "Yes",
         "11",
         "3",
         "3",
         "0",
         "8",
         "3",
         "3",
         "8",
         "7",
         "3",
         "0"
        ],
        [
         "4",
         "27",
         "No",
         "Travel_Rarely",
         "Research & Development",
         "2",
         "1",
         "Medical",
         "1",
         "40",
         "3",
         "1",
         "Laboratory Technician",
         "2",
         "Married",
         "9",
         "No",
         "12",
         "3",
         "4",
         "1",
         "6",
         "3",
         "3",
         "2",
         "2",
         "2",
         "2"
        ]
       ],
       "shape": {
        "columns": 27,
        "rows": 5
       }
      },
      "text/html": [
       "<div>\n",
       "<style scoped>\n",
       "    .dataframe tbody tr th:only-of-type {\n",
       "        vertical-align: middle;\n",
       "    }\n",
       "\n",
       "    .dataframe tbody tr th {\n",
       "        vertical-align: top;\n",
       "    }\n",
       "\n",
       "    .dataframe thead th {\n",
       "        text-align: right;\n",
       "    }\n",
       "</style>\n",
       "<table border=\"1\" class=\"dataframe\">\n",
       "  <thead>\n",
       "    <tr style=\"text-align: right;\">\n",
       "      <th></th>\n",
       "      <th>Age</th>\n",
       "      <th>Attrition</th>\n",
       "      <th>BusinessTravel</th>\n",
       "      <th>Department</th>\n",
       "      <th>DistanceFromHome</th>\n",
       "      <th>Education</th>\n",
       "      <th>EducationField</th>\n",
       "      <th>EnvironmentSatisfaction</th>\n",
       "      <th>HourlyRate</th>\n",
       "      <th>JobInvolvement</th>\n",
       "      <th>...</th>\n",
       "      <th>PerformanceRating</th>\n",
       "      <th>RelationshipSatisfaction</th>\n",
       "      <th>StockOptionLevel</th>\n",
       "      <th>TotalWorkingYears</th>\n",
       "      <th>TrainingTimesLastYear</th>\n",
       "      <th>WorkLifeBalance</th>\n",
       "      <th>YearsAtCompany</th>\n",
       "      <th>YearsInCurrentRole</th>\n",
       "      <th>YearsSinceLastPromotion</th>\n",
       "      <th>YearsWithCurrManager</th>\n",
       "    </tr>\n",
       "  </thead>\n",
       "  <tbody>\n",
       "    <tr>\n",
       "      <th>0</th>\n",
       "      <td>41</td>\n",
       "      <td>Yes</td>\n",
       "      <td>Travel_Rarely</td>\n",
       "      <td>Sales</td>\n",
       "      <td>1</td>\n",
       "      <td>2</td>\n",
       "      <td>Life Sciences</td>\n",
       "      <td>2</td>\n",
       "      <td>94</td>\n",
       "      <td>3</td>\n",
       "      <td>...</td>\n",
       "      <td>3</td>\n",
       "      <td>1</td>\n",
       "      <td>0</td>\n",
       "      <td>8</td>\n",
       "      <td>0</td>\n",
       "      <td>1</td>\n",
       "      <td>6</td>\n",
       "      <td>4</td>\n",
       "      <td>0</td>\n",
       "      <td>5</td>\n",
       "    </tr>\n",
       "    <tr>\n",
       "      <th>1</th>\n",
       "      <td>49</td>\n",
       "      <td>No</td>\n",
       "      <td>Travel_Frequently</td>\n",
       "      <td>Research &amp; Development</td>\n",
       "      <td>8</td>\n",
       "      <td>1</td>\n",
       "      <td>Life Sciences</td>\n",
       "      <td>3</td>\n",
       "      <td>61</td>\n",
       "      <td>2</td>\n",
       "      <td>...</td>\n",
       "      <td>4</td>\n",
       "      <td>4</td>\n",
       "      <td>1</td>\n",
       "      <td>10</td>\n",
       "      <td>3</td>\n",
       "      <td>3</td>\n",
       "      <td>10</td>\n",
       "      <td>7</td>\n",
       "      <td>1</td>\n",
       "      <td>7</td>\n",
       "    </tr>\n",
       "    <tr>\n",
       "      <th>2</th>\n",
       "      <td>37</td>\n",
       "      <td>Yes</td>\n",
       "      <td>Travel_Rarely</td>\n",
       "      <td>Research &amp; Development</td>\n",
       "      <td>2</td>\n",
       "      <td>2</td>\n",
       "      <td>Other</td>\n",
       "      <td>4</td>\n",
       "      <td>92</td>\n",
       "      <td>2</td>\n",
       "      <td>...</td>\n",
       "      <td>3</td>\n",
       "      <td>2</td>\n",
       "      <td>0</td>\n",
       "      <td>7</td>\n",
       "      <td>3</td>\n",
       "      <td>3</td>\n",
       "      <td>0</td>\n",
       "      <td>0</td>\n",
       "      <td>0</td>\n",
       "      <td>0</td>\n",
       "    </tr>\n",
       "    <tr>\n",
       "      <th>3</th>\n",
       "      <td>33</td>\n",
       "      <td>No</td>\n",
       "      <td>Travel_Frequently</td>\n",
       "      <td>Research &amp; Development</td>\n",
       "      <td>3</td>\n",
       "      <td>4</td>\n",
       "      <td>Life Sciences</td>\n",
       "      <td>4</td>\n",
       "      <td>56</td>\n",
       "      <td>3</td>\n",
       "      <td>...</td>\n",
       "      <td>3</td>\n",
       "      <td>3</td>\n",
       "      <td>0</td>\n",
       "      <td>8</td>\n",
       "      <td>3</td>\n",
       "      <td>3</td>\n",
       "      <td>8</td>\n",
       "      <td>7</td>\n",
       "      <td>3</td>\n",
       "      <td>0</td>\n",
       "    </tr>\n",
       "    <tr>\n",
       "      <th>4</th>\n",
       "      <td>27</td>\n",
       "      <td>No</td>\n",
       "      <td>Travel_Rarely</td>\n",
       "      <td>Research &amp; Development</td>\n",
       "      <td>2</td>\n",
       "      <td>1</td>\n",
       "      <td>Medical</td>\n",
       "      <td>1</td>\n",
       "      <td>40</td>\n",
       "      <td>3</td>\n",
       "      <td>...</td>\n",
       "      <td>3</td>\n",
       "      <td>4</td>\n",
       "      <td>1</td>\n",
       "      <td>6</td>\n",
       "      <td>3</td>\n",
       "      <td>3</td>\n",
       "      <td>2</td>\n",
       "      <td>2</td>\n",
       "      <td>2</td>\n",
       "      <td>2</td>\n",
       "    </tr>\n",
       "  </tbody>\n",
       "</table>\n",
       "<p>5 rows × 27 columns</p>\n",
       "</div>"
      ],
      "text/plain": [
       "   Age Attrition     BusinessTravel              Department  DistanceFromHome  \\\n",
       "0   41       Yes      Travel_Rarely                   Sales                 1   \n",
       "1   49        No  Travel_Frequently  Research & Development                 8   \n",
       "2   37       Yes      Travel_Rarely  Research & Development                 2   \n",
       "3   33        No  Travel_Frequently  Research & Development                 3   \n",
       "4   27        No      Travel_Rarely  Research & Development                 2   \n",
       "\n",
       "   Education EducationField  EnvironmentSatisfaction  HourlyRate  \\\n",
       "0          2  Life Sciences                        2          94   \n",
       "1          1  Life Sciences                        3          61   \n",
       "2          2          Other                        4          92   \n",
       "3          4  Life Sciences                        4          56   \n",
       "4          1        Medical                        1          40   \n",
       "\n",
       "   JobInvolvement  ...  PerformanceRating RelationshipSatisfaction  \\\n",
       "0               3  ...                  3                        1   \n",
       "1               2  ...                  4                        4   \n",
       "2               2  ...                  3                        2   \n",
       "3               3  ...                  3                        3   \n",
       "4               3  ...                  3                        4   \n",
       "\n",
       "   StockOptionLevel TotalWorkingYears  TrainingTimesLastYear WorkLifeBalance  \\\n",
       "0                 0                 8                      0               1   \n",
       "1                 1                10                      3               3   \n",
       "2                 0                 7                      3               3   \n",
       "3                 0                 8                      3               3   \n",
       "4                 1                 6                      3               3   \n",
       "\n",
       "   YearsAtCompany  YearsInCurrentRole  YearsSinceLastPromotion  \\\n",
       "0               6                   4                        0   \n",
       "1              10                   7                        1   \n",
       "2               0                   0                        0   \n",
       "3               8                   7                        3   \n",
       "4               2                   2                        2   \n",
       "\n",
       "   YearsWithCurrManager  \n",
       "0                     5  \n",
       "1                     7  \n",
       "2                     0  \n",
       "3                     0  \n",
       "4                     2  \n",
       "\n",
       "[5 rows x 27 columns]"
      ]
     },
     "execution_count": 2,
     "metadata": {},
     "output_type": "execute_result"
    }
   ],
   "source": [
    "# Import our dependencies\n",
    "from sklearn.model_selection import train_test_split\n",
    "from sklearn.preprocessing import StandardScaler\n",
    "import pandas as pd\n",
    "import numpy as np\n",
    "from tensorflow.keras.models import Model\n",
    "from tensorflow.keras import layers\n",
    "\n",
    "#  Import and read the attrition data\n",
    "attrition_df = pd.read_csv('https://static.bc-edx.com/ai/ail-v-1-0/m19/lms/datasets/attrition.csv')\n",
    "attrition_df.head()"
   ]
  },
  {
   "cell_type": "code",
   "execution_count": 3,
   "metadata": {
    "colab": {
     "base_uri": "https://localhost:8080/",
     "height": 930
    },
    "executionInfo": {
     "elapsed": 10,
     "status": "ok",
     "timestamp": 1730699226906,
     "user": {
      "displayName": "Alexander Booth",
      "userId": "02269714993535573104"
     },
     "user_tz": 360
    },
    "id": "g22aQSY4Gc3Q",
    "outputId": "e8b68509-45d8-42e0-a9db-1bdce48e4b2d"
   },
   "outputs": [
    {
     "data": {
      "text/plain": [
       "Age                         43\n",
       "Attrition                    2\n",
       "BusinessTravel               3\n",
       "Department                   3\n",
       "DistanceFromHome            29\n",
       "Education                    5\n",
       "EducationField               6\n",
       "EnvironmentSatisfaction      4\n",
       "HourlyRate                  71\n",
       "JobInvolvement               4\n",
       "JobLevel                     5\n",
       "JobRole                      9\n",
       "JobSatisfaction              4\n",
       "MaritalStatus                3\n",
       "NumCompaniesWorked          10\n",
       "OverTime                     2\n",
       "PercentSalaryHike           15\n",
       "PerformanceRating            2\n",
       "RelationshipSatisfaction     4\n",
       "StockOptionLevel             4\n",
       "TotalWorkingYears           40\n",
       "TrainingTimesLastYear        7\n",
       "WorkLifeBalance              4\n",
       "YearsAtCompany              37\n",
       "YearsInCurrentRole          19\n",
       "YearsSinceLastPromotion     16\n",
       "YearsWithCurrManager        18\n",
       "dtype: int64"
      ]
     },
     "execution_count": 3,
     "metadata": {},
     "output_type": "execute_result"
    }
   ],
   "source": [
    "# Determine the number of unique values in each column\n",
    "attrition_df.nunique()"
   ]
  },
  {
   "cell_type": "code",
   "execution_count": 4,
   "metadata": {
    "executionInfo": {
     "elapsed": 7,
     "status": "ok",
     "timestamp": 1730699226906,
     "user": {
      "displayName": "Alexander Booth",
      "userId": "02269714993535573104"
     },
     "user_tz": 360
    },
    "id": "50vMgBEnJbfM"
   },
   "outputs": [
    {
     "data": {
      "application/vnd.microsoft.datawrangler.viewer.v0+json": {
       "columns": [
        {
         "name": "index",
         "rawType": "int64",
         "type": "integer"
        },
        {
         "name": "Attrition",
         "rawType": "object",
         "type": "string"
        },
        {
         "name": "Department",
         "rawType": "object",
         "type": "string"
        }
       ],
       "conversionMethod": "pd.DataFrame",
       "ref": "b483a107-88ec-49fc-a3c9-6c837b27fb96",
       "rows": [
        [
         "0",
         "Yes",
         "Sales"
        ],
        [
         "1",
         "No",
         "Research & Development"
        ],
        [
         "2",
         "Yes",
         "Research & Development"
        ],
        [
         "3",
         "No",
         "Research & Development"
        ],
        [
         "4",
         "No",
         "Research & Development"
        ]
       ],
       "shape": {
        "columns": 2,
        "rows": 5
       }
      },
      "text/html": [
       "<div>\n",
       "<style scoped>\n",
       "    .dataframe tbody tr th:only-of-type {\n",
       "        vertical-align: middle;\n",
       "    }\n",
       "\n",
       "    .dataframe tbody tr th {\n",
       "        vertical-align: top;\n",
       "    }\n",
       "\n",
       "    .dataframe thead th {\n",
       "        text-align: right;\n",
       "    }\n",
       "</style>\n",
       "<table border=\"1\" class=\"dataframe\">\n",
       "  <thead>\n",
       "    <tr style=\"text-align: right;\">\n",
       "      <th></th>\n",
       "      <th>Attrition</th>\n",
       "      <th>Department</th>\n",
       "    </tr>\n",
       "  </thead>\n",
       "  <tbody>\n",
       "    <tr>\n",
       "      <th>0</th>\n",
       "      <td>Yes</td>\n",
       "      <td>Sales</td>\n",
       "    </tr>\n",
       "    <tr>\n",
       "      <th>1</th>\n",
       "      <td>No</td>\n",
       "      <td>Research &amp; Development</td>\n",
       "    </tr>\n",
       "    <tr>\n",
       "      <th>2</th>\n",
       "      <td>Yes</td>\n",
       "      <td>Research &amp; Development</td>\n",
       "    </tr>\n",
       "    <tr>\n",
       "      <th>3</th>\n",
       "      <td>No</td>\n",
       "      <td>Research &amp; Development</td>\n",
       "    </tr>\n",
       "    <tr>\n",
       "      <th>4</th>\n",
       "      <td>No</td>\n",
       "      <td>Research &amp; Development</td>\n",
       "    </tr>\n",
       "  </tbody>\n",
       "</table>\n",
       "</div>"
      ],
      "text/plain": [
       "  Attrition              Department\n",
       "0       Yes                   Sales\n",
       "1        No  Research & Development\n",
       "2       Yes  Research & Development\n",
       "3        No  Research & Development\n",
       "4        No  Research & Development"
      ]
     },
     "execution_count": 4,
     "metadata": {},
     "output_type": "execute_result"
    }
   ],
   "source": [
    "# Create y_df with the Attrition and Department columns\n",
    "y_df = attrition_df[['Attrition', 'Department']]\n",
    "y_df.head()"
   ]
  },
  {
   "cell_type": "code",
   "execution_count": 21,
   "metadata": {
    "colab": {
     "base_uri": "https://localhost:8080/",
     "height": 397
    },
    "executionInfo": {
     "elapsed": 125,
     "status": "ok",
     "timestamp": 1730699227025,
     "user": {
      "displayName": "Alexander Booth",
      "userId": "02269714993535573104"
     },
     "user_tz": 360
    },
    "id": "Virka0zLGc3R",
    "outputId": "24f181c9-7e2e-42cb-94e8-a75842f1ab01"
   },
   "outputs": [
    {
     "data": {
      "text/plain": [
       "Age                         int64\n",
       "BusinessTravel             object\n",
       "DistanceFromHome            int64\n",
       "Education                   int64\n",
       "EnvironmentSatisfaction     int64\n",
       "HourlyRate                  int64\n",
       "JobInvolvement              int64\n",
       "JobLevel                    int64\n",
       "JobSatisfaction             int64\n",
       "MaritalStatus              object\n",
       "dtype: object"
      ]
     },
     "execution_count": 21,
     "metadata": {},
     "output_type": "execute_result"
    }
   ],
   "source": [
    "# Create a list of at least 10 column names to use as X data\n",
    "selected_columns = [\n",
    "    'Age', 'BusinessTravel', 'DistanceFromHome', 'Education', \n",
    "    'EnvironmentSatisfaction', 'HourlyRate', 'JobInvolvement', \n",
    "    'JobLevel', 'JobSatisfaction', 'MaritalStatus'\n",
    "]\n",
    "\n",
    "# Create X_df using your selected columns\n",
    "X_df = attrition_df[selected_columns]\n",
    "\n",
    "# Show the data types for X_df\n",
    "X_df.dtypes"
   ]
  },
  {
   "cell_type": "code",
   "execution_count": 28,
   "metadata": {
    "executionInfo": {
     "elapsed": 9,
     "status": "ok",
     "timestamp": 1730699227025,
     "user": {
      "displayName": "Alexander Booth",
      "userId": "02269714993535573104"
     },
     "user_tz": 360
    },
    "id": "KaJfdOGUMHMR"
   },
   "outputs": [],
   "source": [
    "# Split the data into training and testing sets\n",
    "from sklearn.model_selection import train_test_split\n",
    "X_train, X_test, y_train, y_test = train_test_split(X_df, y_df, test_size=0.2, random_state=42)\n"
   ]
  },
  {
   "cell_type": "code",
   "execution_count": 15,
   "metadata": {
    "colab": {
     "base_uri": "https://localhost:8080/",
     "height": 178
    },
    "executionInfo": {
     "elapsed": 8,
     "status": "ok",
     "timestamp": 1730699227025,
     "user": {
      "displayName": "Alexander Booth",
      "userId": "02269714993535573104"
     },
     "user_tz": 360
    },
    "id": "NYubUJqiLCSp",
    "outputId": "6116187c-4afa-4d4a-aeb9-fdc2131d0d58"
   },
   "outputs": [
    {
     "data": {
      "application/vnd.microsoft.datawrangler.viewer.v0+json": {
       "columns": [
        {
         "name": "index",
         "rawType": "int64",
         "type": "integer"
        },
        {
         "name": "Age",
         "rawType": "int64",
         "type": "integer"
        },
        {
         "name": "DistanceFromHome",
         "rawType": "int64",
         "type": "integer"
        },
        {
         "name": "Education",
         "rawType": "int64",
         "type": "integer"
        },
        {
         "name": "JobLevel",
         "rawType": "int64",
         "type": "integer"
        },
        {
         "name": "PerformanceRating",
         "rawType": "int64",
         "type": "integer"
        },
        {
         "name": "TotalWorkingYears",
         "rawType": "int64",
         "type": "integer"
        },
        {
         "name": "YearsAtCompany",
         "rawType": "int64",
         "type": "integer"
        },
        {
         "name": "YearsWithCurrManager",
         "rawType": "int64",
         "type": "integer"
        },
        {
         "name": "BusinessTravel_Non-Travel",
         "rawType": "bool",
         "type": "boolean"
        },
        {
         "name": "BusinessTravel_Travel_Frequently",
         "rawType": "bool",
         "type": "boolean"
        },
        {
         "name": "BusinessTravel_Travel_Rarely",
         "rawType": "bool",
         "type": "boolean"
        },
        {
         "name": "MaritalStatus_Divorced",
         "rawType": "bool",
         "type": "boolean"
        },
        {
         "name": "MaritalStatus_Married",
         "rawType": "bool",
         "type": "boolean"
        },
        {
         "name": "MaritalStatus_Single",
         "rawType": "bool",
         "type": "boolean"
        }
       ],
       "conversionMethod": "pd.DataFrame",
       "ref": "2c195d3d-3ba5-49f9-bb0f-2397bf8e10c8",
       "rows": [
        [
         "0",
         "41",
         "1",
         "2",
         "2",
         "3",
         "8",
         "6",
         "5",
         "False",
         "False",
         "True",
         "False",
         "False",
         "True"
        ],
        [
         "1",
         "49",
         "8",
         "1",
         "2",
         "4",
         "10",
         "10",
         "7",
         "False",
         "True",
         "False",
         "False",
         "True",
         "False"
        ],
        [
         "2",
         "37",
         "2",
         "2",
         "1",
         "3",
         "7",
         "0",
         "0",
         "False",
         "False",
         "True",
         "False",
         "False",
         "True"
        ],
        [
         "3",
         "33",
         "3",
         "4",
         "1",
         "3",
         "8",
         "8",
         "0",
         "False",
         "True",
         "False",
         "False",
         "True",
         "False"
        ],
        [
         "4",
         "27",
         "2",
         "1",
         "1",
         "3",
         "6",
         "2",
         "2",
         "False",
         "False",
         "True",
         "False",
         "True",
         "False"
        ]
       ],
       "shape": {
        "columns": 14,
        "rows": 5
       }
      },
      "text/html": [
       "<div>\n",
       "<style scoped>\n",
       "    .dataframe tbody tr th:only-of-type {\n",
       "        vertical-align: middle;\n",
       "    }\n",
       "\n",
       "    .dataframe tbody tr th {\n",
       "        vertical-align: top;\n",
       "    }\n",
       "\n",
       "    .dataframe thead th {\n",
       "        text-align: right;\n",
       "    }\n",
       "</style>\n",
       "<table border=\"1\" class=\"dataframe\">\n",
       "  <thead>\n",
       "    <tr style=\"text-align: right;\">\n",
       "      <th></th>\n",
       "      <th>Age</th>\n",
       "      <th>DistanceFromHome</th>\n",
       "      <th>Education</th>\n",
       "      <th>JobLevel</th>\n",
       "      <th>PerformanceRating</th>\n",
       "      <th>TotalWorkingYears</th>\n",
       "      <th>YearsAtCompany</th>\n",
       "      <th>YearsWithCurrManager</th>\n",
       "      <th>BusinessTravel_Non-Travel</th>\n",
       "      <th>BusinessTravel_Travel_Frequently</th>\n",
       "      <th>BusinessTravel_Travel_Rarely</th>\n",
       "      <th>MaritalStatus_Divorced</th>\n",
       "      <th>MaritalStatus_Married</th>\n",
       "      <th>MaritalStatus_Single</th>\n",
       "    </tr>\n",
       "  </thead>\n",
       "  <tbody>\n",
       "    <tr>\n",
       "      <th>0</th>\n",
       "      <td>41</td>\n",
       "      <td>1</td>\n",
       "      <td>2</td>\n",
       "      <td>2</td>\n",
       "      <td>3</td>\n",
       "      <td>8</td>\n",
       "      <td>6</td>\n",
       "      <td>5</td>\n",
       "      <td>False</td>\n",
       "      <td>False</td>\n",
       "      <td>True</td>\n",
       "      <td>False</td>\n",
       "      <td>False</td>\n",
       "      <td>True</td>\n",
       "    </tr>\n",
       "    <tr>\n",
       "      <th>1</th>\n",
       "      <td>49</td>\n",
       "      <td>8</td>\n",
       "      <td>1</td>\n",
       "      <td>2</td>\n",
       "      <td>4</td>\n",
       "      <td>10</td>\n",
       "      <td>10</td>\n",
       "      <td>7</td>\n",
       "      <td>False</td>\n",
       "      <td>True</td>\n",
       "      <td>False</td>\n",
       "      <td>False</td>\n",
       "      <td>True</td>\n",
       "      <td>False</td>\n",
       "    </tr>\n",
       "    <tr>\n",
       "      <th>2</th>\n",
       "      <td>37</td>\n",
       "      <td>2</td>\n",
       "      <td>2</td>\n",
       "      <td>1</td>\n",
       "      <td>3</td>\n",
       "      <td>7</td>\n",
       "      <td>0</td>\n",
       "      <td>0</td>\n",
       "      <td>False</td>\n",
       "      <td>False</td>\n",
       "      <td>True</td>\n",
       "      <td>False</td>\n",
       "      <td>False</td>\n",
       "      <td>True</td>\n",
       "    </tr>\n",
       "    <tr>\n",
       "      <th>3</th>\n",
       "      <td>33</td>\n",
       "      <td>3</td>\n",
       "      <td>4</td>\n",
       "      <td>1</td>\n",
       "      <td>3</td>\n",
       "      <td>8</td>\n",
       "      <td>8</td>\n",
       "      <td>0</td>\n",
       "      <td>False</td>\n",
       "      <td>True</td>\n",
       "      <td>False</td>\n",
       "      <td>False</td>\n",
       "      <td>True</td>\n",
       "      <td>False</td>\n",
       "    </tr>\n",
       "    <tr>\n",
       "      <th>4</th>\n",
       "      <td>27</td>\n",
       "      <td>2</td>\n",
       "      <td>1</td>\n",
       "      <td>1</td>\n",
       "      <td>3</td>\n",
       "      <td>6</td>\n",
       "      <td>2</td>\n",
       "      <td>2</td>\n",
       "      <td>False</td>\n",
       "      <td>False</td>\n",
       "      <td>True</td>\n",
       "      <td>False</td>\n",
       "      <td>True</td>\n",
       "      <td>False</td>\n",
       "    </tr>\n",
       "  </tbody>\n",
       "</table>\n",
       "</div>"
      ],
      "text/plain": [
       "   Age  DistanceFromHome  Education  JobLevel  PerformanceRating  \\\n",
       "0   41                 1          2         2                  3   \n",
       "1   49                 8          1         2                  4   \n",
       "2   37                 2          2         1                  3   \n",
       "3   33                 3          4         1                  3   \n",
       "4   27                 2          1         1                  3   \n",
       "\n",
       "   TotalWorkingYears  YearsAtCompany  YearsWithCurrManager  \\\n",
       "0                  8               6                     5   \n",
       "1                 10              10                     7   \n",
       "2                  7               0                     0   \n",
       "3                  8               8                     0   \n",
       "4                  6               2                     2   \n",
       "\n",
       "   BusinessTravel_Non-Travel  BusinessTravel_Travel_Frequently  \\\n",
       "0                      False                             False   \n",
       "1                      False                              True   \n",
       "2                      False                             False   \n",
       "3                      False                              True   \n",
       "4                      False                             False   \n",
       "\n",
       "   BusinessTravel_Travel_Rarely  MaritalStatus_Divorced  \\\n",
       "0                          True                   False   \n",
       "1                         False                   False   \n",
       "2                          True                   False   \n",
       "3                         False                   False   \n",
       "4                          True                   False   \n",
       "\n",
       "   MaritalStatus_Married  MaritalStatus_Single  \n",
       "0                  False                  True  \n",
       "1                   True                 False  \n",
       "2                  False                  True  \n",
       "3                   True                 False  \n",
       "4                   True                 False  "
      ]
     },
     "execution_count": 15,
     "metadata": {},
     "output_type": "execute_result"
    }
   ],
   "source": [
    "# Convert your X data to numeric data types however you see fit\n",
    "# Add new code cells as necessary\n",
    "X_numeric = pd.get_dummies(X_df)\n",
    "# Display the first few rows of the transformed data\n",
    "X_numeric.head()"
   ]
  },
  {
   "cell_type": "code",
   "execution_count": 29,
   "metadata": {},
   "outputs": [],
   "source": [
    "X_train = pd.get_dummies(X_train)\n",
    "X_test = pd.get_dummies(X_test) \n"
   ]
  },
  {
   "cell_type": "code",
   "execution_count": 30,
   "metadata": {
    "executionInfo": {
     "elapsed": 6,
     "status": "ok",
     "timestamp": 1730699227162,
     "user": {
      "displayName": "Alexander Booth",
      "userId": "02269714993535573104"
     },
     "user_tz": 360
    },
    "id": "EWA-aIA5Gc3T"
   },
   "outputs": [],
   "source": [
    "# Create a StandardScaler\n",
    "scaler = StandardScaler()\n",
    "\n",
    "# Fit the StandardScaler to the training data\n",
    "scaler.fit(X_train)\n",
    "\n",
    "# Scale the training and testing data\n",
    "X_train_scaled = scaler.transform(X_train)\n",
    "X_test_scaled = scaler.transform(X_test)"
   ]
  },
  {
   "cell_type": "code",
   "execution_count": 32,
   "metadata": {
    "colab": {
     "base_uri": "https://localhost:8080/"
    },
    "executionInfo": {
     "elapsed": 99,
     "status": "ok",
     "timestamp": 1730699227256,
     "user": {
      "displayName": "Alexander Booth",
      "userId": "02269714993535573104"
     },
     "user_tz": 360
    },
    "id": "-z0Mky8vQSz4",
    "outputId": "5024d63f-7e4e-4a91-fb76-0b2c79c1bcfb"
   },
   "outputs": [],
   "source": [
    "from sklearn.preprocessing import OneHotEncoder\n",
    "\n",
    "# Create a OneHotEncoder for the Department column\n",
    "encoder = OneHotEncoder(sparse_output=False)\n",
    "\n",
    "# Fit the encoder to the training data\n",
    "encoder.fit(y_train[['Department']])\n",
    "\n",
    "\n",
    "# Create two new variables by applying the encoder\n",
    "# to the training and testing data\n",
    "y_train_encoded = encoder.transform(y_train[['Department']])\n",
    "y_test_encoded = encoder.transform(y_test[['Department']])"
   ]
  },
  {
   "cell_type": "code",
   "execution_count": 33,
   "metadata": {
    "colab": {
     "base_uri": "https://localhost:8080/"
    },
    "executionInfo": {
     "elapsed": 5,
     "status": "ok",
     "timestamp": 1730699227257,
     "user": {
      "displayName": "Alexander Booth",
      "userId": "02269714993535573104"
     },
     "user_tz": 360
    },
    "id": "-G4DSpvFRrk4",
    "outputId": "1821049e-a4f0-437f-b8a7-e415431fbdb0"
   },
   "outputs": [],
   "source": [
    "# Create a OneHotEncoder for the Attrition column\n",
    "attrition_encoder = OneHotEncoder(sparse_output=False)\n",
    "\n",
    "# Fit the encoder to the training data\n",
    "attrition_encoder.fit(y_train[['Attrition']])\n",
    "\n",
    "\n",
    "# Create two new variables by applying the encoder\n",
    "# to the training and testing data\n",
    "y_train_attrition_encoded = attrition_encoder.transform(y_train[['Attrition']])\n",
    "y_test_attrition_encoded = attrition_encoder.transform(y_test[['Attrition']])"
   ]
  },
  {
   "cell_type": "markdown",
   "metadata": {
    "id": "ykNmu_WWGc3T"
   },
   "source": [
    "## Part 2: Create, Compile, and Train the Model"
   ]
  },
  {
   "cell_type": "code",
   "execution_count": 38,
   "metadata": {
    "executionInfo": {
     "elapsed": 309,
     "status": "ok",
     "timestamp": 1730699227563,
     "user": {
      "displayName": "Alexander Booth",
      "userId": "02269714993535573104"
     },
     "user_tz": 360
    },
    "id": "WUptZqmSGc3T"
   },
   "outputs": [],
   "source": [
    "# Find the number of columns in the X training data.\n",
    "input_shape = X_train_scaled.shape[1]\n",
    "\n",
    "# Create the input layer\n",
    "input_layer = layers.Input(shape=(input_shape,))\n",
    "\n",
    "# Create at least two shared layers\n",
    "shared_layer_1 = layers.Dense(128, activation='relu')(input_layer)\n",
    "shared_layer_2 = layers.Dense(64, activation='relu')(shared_layer_1)    "
   ]
  },
  {
   "cell_type": "code",
   "execution_count": 39,
   "metadata": {
    "executionInfo": {
     "elapsed": 118,
     "status": "ok",
     "timestamp": 1730699227678,
     "user": {
      "displayName": "Alexander Booth",
      "userId": "02269714993535573104"
     },
     "user_tz": 360
    },
    "id": "JukjTm2yTEqd"
   },
   "outputs": [],
   "source": [
    "# Create a branch for Department\n",
    "# with a hidden layer and an output layer\n",
    "\n",
    "# Create the hidden layer\n",
    "department_hidden_layer = layers.Dense(32, activation='relu')(shared_layer_2)\n",
    "\n",
    "# Create the output layer\n",
    "department_output_layer = layers.Dense(y_train_encoded.shape[1], activation='softmax', name='department_output')(department_hidden_layer)"
   ]
  },
  {
   "cell_type": "code",
   "execution_count": 40,
   "metadata": {
    "executionInfo": {
     "elapsed": 9,
     "status": "ok",
     "timestamp": 1730699227679,
     "user": {
      "displayName": "Alexander Booth",
      "userId": "02269714993535573104"
     },
     "user_tz": 360
    },
    "id": "9OqhUiOJUBkR"
   },
   "outputs": [],
   "source": [
    "# Create a branch for Attrition\n",
    "# with a hidden layer and an output layer\n",
    "\n",
    "# Create the hidden layer\n",
    "attrition_hidden_layer = layers.Dense(32, activation='relu')(shared_layer_2)\n",
    "\n",
    "# Create the output layer\n",
    "attrition_output_layer = layers.Dense(y_train_attrition_encoded.shape[1], activation='softmax', name='attrition_output')(attrition_hidden_layer)"
   ]
  },
  {
   "cell_type": "code",
   "execution_count": 41,
   "metadata": {
    "colab": {
     "base_uri": "https://localhost:8080/",
     "height": 361
    },
    "executionInfo": {
     "elapsed": 108,
     "status": "ok",
     "timestamp": 1730699227780,
     "user": {
      "displayName": "Alexander Booth",
      "userId": "02269714993535573104"
     },
     "user_tz": 360
    },
    "id": "twmuejdxGc3T",
    "outputId": "dd9ce242-6a66-4709-ba13-4b13551c22e0"
   },
   "outputs": [
    {
     "data": {
      "text/html": [
       "<pre style=\"white-space:pre;overflow-x:auto;line-height:normal;font-family:Menlo,'DejaVu Sans Mono',consolas,'Courier New',monospace\"><span style=\"font-weight: bold\">Model: \"functional\"</span>\n",
       "</pre>\n"
      ],
      "text/plain": [
       "\u001b[1mModel: \"functional\"\u001b[0m\n"
      ]
     },
     "metadata": {},
     "output_type": "display_data"
    },
    {
     "data": {
      "text/html": [
       "<pre style=\"white-space:pre;overflow-x:auto;line-height:normal;font-family:Menlo,'DejaVu Sans Mono',consolas,'Courier New',monospace\">┏━━━━━━━━━━━━━━━━━━━━━┳━━━━━━━━━━━━━━━━━━━┳━━━━━━━━━━━━┳━━━━━━━━━━━━━━━━━━━┓\n",
       "┃<span style=\"font-weight: bold\"> Layer (type)        </span>┃<span style=\"font-weight: bold\"> Output Shape      </span>┃<span style=\"font-weight: bold\">    Param # </span>┃<span style=\"font-weight: bold\"> Connected to      </span>┃\n",
       "┡━━━━━━━━━━━━━━━━━━━━━╇━━━━━━━━━━━━━━━━━━━╇━━━━━━━━━━━━╇━━━━━━━━━━━━━━━━━━━┩\n",
       "│ input_layer_1       │ (<span style=\"color: #00d7ff; text-decoration-color: #00d7ff\">None</span>, <span style=\"color: #00af00; text-decoration-color: #00af00\">14</span>)        │          <span style=\"color: #00af00; text-decoration-color: #00af00\">0</span> │ -                 │\n",
       "│ (<span style=\"color: #0087ff; text-decoration-color: #0087ff\">InputLayer</span>)        │                   │            │                   │\n",
       "├─────────────────────┼───────────────────┼────────────┼───────────────────┤\n",
       "│ dense_3 (<span style=\"color: #0087ff; text-decoration-color: #0087ff\">Dense</span>)     │ (<span style=\"color: #00d7ff; text-decoration-color: #00d7ff\">None</span>, <span style=\"color: #00af00; text-decoration-color: #00af00\">128</span>)       │      <span style=\"color: #00af00; text-decoration-color: #00af00\">1,920</span> │ input_layer_1[<span style=\"color: #00af00; text-decoration-color: #00af00\">0</span>]… │\n",
       "├─────────────────────┼───────────────────┼────────────┼───────────────────┤\n",
       "│ dense_4 (<span style=\"color: #0087ff; text-decoration-color: #0087ff\">Dense</span>)     │ (<span style=\"color: #00d7ff; text-decoration-color: #00d7ff\">None</span>, <span style=\"color: #00af00; text-decoration-color: #00af00\">64</span>)        │      <span style=\"color: #00af00; text-decoration-color: #00af00\">8,256</span> │ dense_3[<span style=\"color: #00af00; text-decoration-color: #00af00\">0</span>][<span style=\"color: #00af00; text-decoration-color: #00af00\">0</span>]     │\n",
       "├─────────────────────┼───────────────────┼────────────┼───────────────────┤\n",
       "│ dense_5 (<span style=\"color: #0087ff; text-decoration-color: #0087ff\">Dense</span>)     │ (<span style=\"color: #00d7ff; text-decoration-color: #00d7ff\">None</span>, <span style=\"color: #00af00; text-decoration-color: #00af00\">32</span>)        │      <span style=\"color: #00af00; text-decoration-color: #00af00\">2,080</span> │ dense_4[<span style=\"color: #00af00; text-decoration-color: #00af00\">0</span>][<span style=\"color: #00af00; text-decoration-color: #00af00\">0</span>]     │\n",
       "├─────────────────────┼───────────────────┼────────────┼───────────────────┤\n",
       "│ dense_6 (<span style=\"color: #0087ff; text-decoration-color: #0087ff\">Dense</span>)     │ (<span style=\"color: #00d7ff; text-decoration-color: #00d7ff\">None</span>, <span style=\"color: #00af00; text-decoration-color: #00af00\">32</span>)        │      <span style=\"color: #00af00; text-decoration-color: #00af00\">2,080</span> │ dense_4[<span style=\"color: #00af00; text-decoration-color: #00af00\">0</span>][<span style=\"color: #00af00; text-decoration-color: #00af00\">0</span>]     │\n",
       "├─────────────────────┼───────────────────┼────────────┼───────────────────┤\n",
       "│ department_output   │ (<span style=\"color: #00d7ff; text-decoration-color: #00d7ff\">None</span>, <span style=\"color: #00af00; text-decoration-color: #00af00\">3</span>)         │         <span style=\"color: #00af00; text-decoration-color: #00af00\">99</span> │ dense_5[<span style=\"color: #00af00; text-decoration-color: #00af00\">0</span>][<span style=\"color: #00af00; text-decoration-color: #00af00\">0</span>]     │\n",
       "│ (<span style=\"color: #0087ff; text-decoration-color: #0087ff\">Dense</span>)             │                   │            │                   │\n",
       "├─────────────────────┼───────────────────┼────────────┼───────────────────┤\n",
       "│ attrition_output    │ (<span style=\"color: #00d7ff; text-decoration-color: #00d7ff\">None</span>, <span style=\"color: #00af00; text-decoration-color: #00af00\">2</span>)         │         <span style=\"color: #00af00; text-decoration-color: #00af00\">66</span> │ dense_6[<span style=\"color: #00af00; text-decoration-color: #00af00\">0</span>][<span style=\"color: #00af00; text-decoration-color: #00af00\">0</span>]     │\n",
       "│ (<span style=\"color: #0087ff; text-decoration-color: #0087ff\">Dense</span>)             │                   │            │                   │\n",
       "└─────────────────────┴───────────────────┴────────────┴───────────────────┘\n",
       "</pre>\n"
      ],
      "text/plain": [
       "┏━━━━━━━━━━━━━━━━━━━━━┳━━━━━━━━━━━━━━━━━━━┳━━━━━━━━━━━━┳━━━━━━━━━━━━━━━━━━━┓\n",
       "┃\u001b[1m \u001b[0m\u001b[1mLayer (type)       \u001b[0m\u001b[1m \u001b[0m┃\u001b[1m \u001b[0m\u001b[1mOutput Shape     \u001b[0m\u001b[1m \u001b[0m┃\u001b[1m \u001b[0m\u001b[1m   Param #\u001b[0m\u001b[1m \u001b[0m┃\u001b[1m \u001b[0m\u001b[1mConnected to     \u001b[0m\u001b[1m \u001b[0m┃\n",
       "┡━━━━━━━━━━━━━━━━━━━━━╇━━━━━━━━━━━━━━━━━━━╇━━━━━━━━━━━━╇━━━━━━━━━━━━━━━━━━━┩\n",
       "│ input_layer_1       │ (\u001b[38;5;45mNone\u001b[0m, \u001b[38;5;34m14\u001b[0m)        │          \u001b[38;5;34m0\u001b[0m │ -                 │\n",
       "│ (\u001b[38;5;33mInputLayer\u001b[0m)        │                   │            │                   │\n",
       "├─────────────────────┼───────────────────┼────────────┼───────────────────┤\n",
       "│ dense_3 (\u001b[38;5;33mDense\u001b[0m)     │ (\u001b[38;5;45mNone\u001b[0m, \u001b[38;5;34m128\u001b[0m)       │      \u001b[38;5;34m1,920\u001b[0m │ input_layer_1[\u001b[38;5;34m0\u001b[0m]… │\n",
       "├─────────────────────┼───────────────────┼────────────┼───────────────────┤\n",
       "│ dense_4 (\u001b[38;5;33mDense\u001b[0m)     │ (\u001b[38;5;45mNone\u001b[0m, \u001b[38;5;34m64\u001b[0m)        │      \u001b[38;5;34m8,256\u001b[0m │ dense_3[\u001b[38;5;34m0\u001b[0m][\u001b[38;5;34m0\u001b[0m]     │\n",
       "├─────────────────────┼───────────────────┼────────────┼───────────────────┤\n",
       "│ dense_5 (\u001b[38;5;33mDense\u001b[0m)     │ (\u001b[38;5;45mNone\u001b[0m, \u001b[38;5;34m32\u001b[0m)        │      \u001b[38;5;34m2,080\u001b[0m │ dense_4[\u001b[38;5;34m0\u001b[0m][\u001b[38;5;34m0\u001b[0m]     │\n",
       "├─────────────────────┼───────────────────┼────────────┼───────────────────┤\n",
       "│ dense_6 (\u001b[38;5;33mDense\u001b[0m)     │ (\u001b[38;5;45mNone\u001b[0m, \u001b[38;5;34m32\u001b[0m)        │      \u001b[38;5;34m2,080\u001b[0m │ dense_4[\u001b[38;5;34m0\u001b[0m][\u001b[38;5;34m0\u001b[0m]     │\n",
       "├─────────────────────┼───────────────────┼────────────┼───────────────────┤\n",
       "│ department_output   │ (\u001b[38;5;45mNone\u001b[0m, \u001b[38;5;34m3\u001b[0m)         │         \u001b[38;5;34m99\u001b[0m │ dense_5[\u001b[38;5;34m0\u001b[0m][\u001b[38;5;34m0\u001b[0m]     │\n",
       "│ (\u001b[38;5;33mDense\u001b[0m)             │                   │            │                   │\n",
       "├─────────────────────┼───────────────────┼────────────┼───────────────────┤\n",
       "│ attrition_output    │ (\u001b[38;5;45mNone\u001b[0m, \u001b[38;5;34m2\u001b[0m)         │         \u001b[38;5;34m66\u001b[0m │ dense_6[\u001b[38;5;34m0\u001b[0m][\u001b[38;5;34m0\u001b[0m]     │\n",
       "│ (\u001b[38;5;33mDense\u001b[0m)             │                   │            │                   │\n",
       "└─────────────────────┴───────────────────┴────────────┴───────────────────┘\n"
      ]
     },
     "metadata": {},
     "output_type": "display_data"
    },
    {
     "data": {
      "text/html": [
       "<pre style=\"white-space:pre;overflow-x:auto;line-height:normal;font-family:Menlo,'DejaVu Sans Mono',consolas,'Courier New',monospace\"><span style=\"font-weight: bold\"> Total params: </span><span style=\"color: #00af00; text-decoration-color: #00af00\">14,501</span> (56.64 KB)\n",
       "</pre>\n"
      ],
      "text/plain": [
       "\u001b[1m Total params: \u001b[0m\u001b[38;5;34m14,501\u001b[0m (56.64 KB)\n"
      ]
     },
     "metadata": {},
     "output_type": "display_data"
    },
    {
     "data": {
      "text/html": [
       "<pre style=\"white-space:pre;overflow-x:auto;line-height:normal;font-family:Menlo,'DejaVu Sans Mono',consolas,'Courier New',monospace\"><span style=\"font-weight: bold\"> Trainable params: </span><span style=\"color: #00af00; text-decoration-color: #00af00\">14,501</span> (56.64 KB)\n",
       "</pre>\n"
      ],
      "text/plain": [
       "\u001b[1m Trainable params: \u001b[0m\u001b[38;5;34m14,501\u001b[0m (56.64 KB)\n"
      ]
     },
     "metadata": {},
     "output_type": "display_data"
    },
    {
     "data": {
      "text/html": [
       "<pre style=\"white-space:pre;overflow-x:auto;line-height:normal;font-family:Menlo,'DejaVu Sans Mono',consolas,'Courier New',monospace\"><span style=\"font-weight: bold\"> Non-trainable params: </span><span style=\"color: #00af00; text-decoration-color: #00af00\">0</span> (0.00 B)\n",
       "</pre>\n"
      ],
      "text/plain": [
       "\u001b[1m Non-trainable params: \u001b[0m\u001b[38;5;34m0\u001b[0m (0.00 B)\n"
      ]
     },
     "metadata": {},
     "output_type": "display_data"
    }
   ],
   "source": [
    "# Create the model\n",
    "model = Model(inputs=input_layer, outputs=[department_output_layer, attrition_output_layer])\n",
    "\n",
    "# Compile the model\n",
    "model.compile(optimizer='adam', \n",
    "              loss={'department_output':'categorical_crossentropy', 'attrition_output':'categorical_crossentropy'},\n",
    "              metrics={'department_output': 'accuracy', 'attrition_output': 'accuracy'})\n",
    "\n",
    "# Summarize the model\n",
    "model.summary()"
   ]
  },
  {
   "cell_type": "code",
   "execution_count": 42,
   "metadata": {
    "colab": {
     "base_uri": "https://localhost:8080/"
    },
    "executionInfo": {
     "elapsed": 31740,
     "status": "ok",
     "timestamp": 1730699259517,
     "user": {
      "displayName": "Alexander Booth",
      "userId": "02269714993535573104"
     },
     "user_tz": 360
    },
    "id": "c8oGy0dpGc3U",
    "outputId": "f48a5292-426f-4715-ea6e-381a8e9d5542"
   },
   "outputs": [
    {
     "name": "stdout",
     "output_type": "stream",
     "text": [
      "Epoch 1/100\n",
      "\u001b[1m12/12\u001b[0m \u001b[32m━━━━━━━━━━━━━━━━━━━━\u001b[0m\u001b[37m\u001b[0m \u001b[1m2s\u001b[0m 38ms/step - attrition_output_accuracy: 0.5830 - attrition_output_loss: 0.6547 - department_output_accuracy: 0.5041 - department_output_loss: 1.0404 - loss: 1.6957 - val_attrition_output_accuracy: 0.8673 - val_attrition_output_loss: 0.4110 - val_department_output_accuracy: 0.6667 - val_department_output_loss: 0.8274 - val_loss: 1.2397\n",
      "Epoch 2/100\n",
      "\u001b[1m12/12\u001b[0m \u001b[32m━━━━━━━━━━━━━━━━━━━━\u001b[0m\u001b[37m\u001b[0m \u001b[1m0s\u001b[0m 7ms/step - attrition_output_accuracy: 0.8299 - attrition_output_loss: 0.4475 - department_output_accuracy: 0.6332 - department_output_loss: 0.8184 - loss: 1.2656 - val_attrition_output_accuracy: 0.8673 - val_attrition_output_loss: 0.3716 - val_department_output_accuracy: 0.6667 - val_department_output_loss: 0.7623 - val_loss: 1.1353\n",
      "Epoch 3/100\n",
      "\u001b[1m12/12\u001b[0m \u001b[32m━━━━━━━━━━━━━━━━━━━━\u001b[0m\u001b[37m\u001b[0m \u001b[1m0s\u001b[0m 7ms/step - attrition_output_accuracy: 0.8286 - attrition_output_loss: 0.4175 - department_output_accuracy: 0.6416 - department_output_loss: 0.7788 - loss: 1.1964 - val_attrition_output_accuracy: 0.8707 - val_attrition_output_loss: 0.3722 - val_department_output_accuracy: 0.6667 - val_department_output_loss: 0.7664 - val_loss: 1.1395\n",
      "Epoch 4/100\n",
      "\u001b[1m12/12\u001b[0m \u001b[32m━━━━━━━━━━━━━━━━━━━━\u001b[0m\u001b[37m\u001b[0m \u001b[1m0s\u001b[0m 7ms/step - attrition_output_accuracy: 0.8508 - attrition_output_loss: 0.3840 - department_output_accuracy: 0.6390 - department_output_loss: 0.7710 - loss: 1.1551 - val_attrition_output_accuracy: 0.8741 - val_attrition_output_loss: 0.3590 - val_department_output_accuracy: 0.6667 - val_department_output_loss: 0.7672 - val_loss: 1.1273\n",
      "Epoch 5/100\n",
      "\u001b[1m12/12\u001b[0m \u001b[32m━━━━━━━━━━━━━━━━━━━━\u001b[0m\u001b[37m\u001b[0m \u001b[1m0s\u001b[0m 7ms/step - attrition_output_accuracy: 0.8425 - attrition_output_loss: 0.3958 - department_output_accuracy: 0.6378 - department_output_loss: 0.7902 - loss: 1.1859 - val_attrition_output_accuracy: 0.8776 - val_attrition_output_loss: 0.3538 - val_department_output_accuracy: 0.6667 - val_department_output_loss: 0.7700 - val_loss: 1.1250\n",
      "Epoch 6/100\n",
      "\u001b[1m12/12\u001b[0m \u001b[32m━━━━━━━━━━━━━━━━━━━━\u001b[0m\u001b[37m\u001b[0m \u001b[1m0s\u001b[0m 7ms/step - attrition_output_accuracy: 0.8507 - attrition_output_loss: 0.3688 - department_output_accuracy: 0.6395 - department_output_loss: 0.7766 - loss: 1.1456 - val_attrition_output_accuracy: 0.8673 - val_attrition_output_loss: 0.3602 - val_department_output_accuracy: 0.6701 - val_department_output_loss: 0.7714 - val_loss: 1.1327\n",
      "Epoch 7/100\n",
      "\u001b[1m12/12\u001b[0m \u001b[32m━━━━━━━━━━━━━━━━━━━━\u001b[0m\u001b[37m\u001b[0m \u001b[1m0s\u001b[0m 7ms/step - attrition_output_accuracy: 0.8510 - attrition_output_loss: 0.3686 - department_output_accuracy: 0.6454 - department_output_loss: 0.7649 - loss: 1.1335 - val_attrition_output_accuracy: 0.8776 - val_attrition_output_loss: 0.3540 - val_department_output_accuracy: 0.6667 - val_department_output_loss: 0.7731 - val_loss: 1.1282\n",
      "Epoch 8/100\n",
      "\u001b[1m12/12\u001b[0m \u001b[32m━━━━━━━━━━━━━━━━━━━━\u001b[0m\u001b[37m\u001b[0m \u001b[1m0s\u001b[0m 8ms/step - attrition_output_accuracy: 0.8533 - attrition_output_loss: 0.3626 - department_output_accuracy: 0.6495 - department_output_loss: 0.7387 - loss: 1.1012 - val_attrition_output_accuracy: 0.8741 - val_attrition_output_loss: 0.3573 - val_department_output_accuracy: 0.6633 - val_department_output_loss: 0.7767 - val_loss: 1.1351\n",
      "Epoch 9/100\n",
      "\u001b[1m12/12\u001b[0m \u001b[32m━━━━━━━━━━━━━━━━━━━━\u001b[0m\u001b[37m\u001b[0m \u001b[1m0s\u001b[0m 7ms/step - attrition_output_accuracy: 0.8494 - attrition_output_loss: 0.3682 - department_output_accuracy: 0.6727 - department_output_loss: 0.7173 - loss: 1.0854 - val_attrition_output_accuracy: 0.8741 - val_attrition_output_loss: 0.3597 - val_department_output_accuracy: 0.6633 - val_department_output_loss: 0.7784 - val_loss: 1.1393\n",
      "Epoch 10/100\n",
      "\u001b[1m12/12\u001b[0m \u001b[32m━━━━━━━━━━━━━━━━━━━━\u001b[0m\u001b[37m\u001b[0m \u001b[1m0s\u001b[0m 7ms/step - attrition_output_accuracy: 0.8626 - attrition_output_loss: 0.3520 - department_output_accuracy: 0.6647 - department_output_loss: 0.7171 - loss: 1.0691 - val_attrition_output_accuracy: 0.8776 - val_attrition_output_loss: 0.3613 - val_department_output_accuracy: 0.6701 - val_department_output_loss: 0.7827 - val_loss: 1.1452\n",
      "Epoch 11/100\n",
      "\u001b[1m12/12\u001b[0m \u001b[32m━━━━━━━━━━━━━━━━━━━━\u001b[0m\u001b[37m\u001b[0m \u001b[1m0s\u001b[0m 7ms/step - attrition_output_accuracy: 0.8569 - attrition_output_loss: 0.3616 - department_output_accuracy: 0.6603 - department_output_loss: 0.7045 - loss: 1.0660 - val_attrition_output_accuracy: 0.8776 - val_attrition_output_loss: 0.3620 - val_department_output_accuracy: 0.6599 - val_department_output_loss: 0.7814 - val_loss: 1.1447\n",
      "Epoch 12/100\n",
      "\u001b[1m12/12\u001b[0m \u001b[32m━━━━━━━━━━━━━━━━━━━━\u001b[0m\u001b[37m\u001b[0m \u001b[1m0s\u001b[0m 7ms/step - attrition_output_accuracy: 0.8626 - attrition_output_loss: 0.3620 - department_output_accuracy: 0.6649 - department_output_loss: 0.7046 - loss: 1.0670 - val_attrition_output_accuracy: 0.8810 - val_attrition_output_loss: 0.3620 - val_department_output_accuracy: 0.6531 - val_department_output_loss: 0.7873 - val_loss: 1.1505\n",
      "Epoch 13/100\n",
      "\u001b[1m12/12\u001b[0m \u001b[32m━━━━━━━━━━━━━━━━━━━━\u001b[0m\u001b[37m\u001b[0m \u001b[1m0s\u001b[0m 7ms/step - attrition_output_accuracy: 0.8616 - attrition_output_loss: 0.3475 - department_output_accuracy: 0.6839 - department_output_loss: 0.6693 - loss: 1.0166 - val_attrition_output_accuracy: 0.8844 - val_attrition_output_loss: 0.3647 - val_department_output_accuracy: 0.6497 - val_department_output_loss: 0.7904 - val_loss: 1.1563\n",
      "Epoch 14/100\n",
      "\u001b[1m12/12\u001b[0m \u001b[32m━━━━━━━━━━━━━━━━━━━━\u001b[0m\u001b[37m\u001b[0m \u001b[1m0s\u001b[0m 7ms/step - attrition_output_accuracy: 0.8735 - attrition_output_loss: 0.3294 - department_output_accuracy: 0.6938 - department_output_loss: 0.6772 - loss: 1.0068 - val_attrition_output_accuracy: 0.8776 - val_attrition_output_loss: 0.3726 - val_department_output_accuracy: 0.6633 - val_department_output_loss: 0.7879 - val_loss: 1.1619\n",
      "Epoch 15/100\n",
      "\u001b[1m12/12\u001b[0m \u001b[32m━━━━━━━━━━━━━━━━━━━━\u001b[0m\u001b[37m\u001b[0m \u001b[1m0s\u001b[0m 8ms/step - attrition_output_accuracy: 0.8485 - attrition_output_loss: 0.3557 - department_output_accuracy: 0.6637 - department_output_loss: 0.6933 - loss: 1.0491 - val_attrition_output_accuracy: 0.8844 - val_attrition_output_loss: 0.3696 - val_department_output_accuracy: 0.6497 - val_department_output_loss: 0.7922 - val_loss: 1.1632\n",
      "Epoch 16/100\n",
      "\u001b[1m12/12\u001b[0m \u001b[32m━━━━━━━━━━━━━━━━━━━━\u001b[0m\u001b[37m\u001b[0m \u001b[1m0s\u001b[0m 7ms/step - attrition_output_accuracy: 0.8597 - attrition_output_loss: 0.3349 - department_output_accuracy: 0.6861 - department_output_loss: 0.6825 - loss: 1.0175 - val_attrition_output_accuracy: 0.8776 - val_attrition_output_loss: 0.3759 - val_department_output_accuracy: 0.6327 - val_department_output_loss: 0.7972 - val_loss: 1.1744\n",
      "Epoch 17/100\n",
      "\u001b[1m12/12\u001b[0m \u001b[32m━━━━━━━━━━━━━━━━━━━━\u001b[0m\u001b[37m\u001b[0m \u001b[1m0s\u001b[0m 7ms/step - attrition_output_accuracy: 0.8677 - attrition_output_loss: 0.3228 - department_output_accuracy: 0.7041 - department_output_loss: 0.6518 - loss: 0.9749 - val_attrition_output_accuracy: 0.8673 - val_attrition_output_loss: 0.3779 - val_department_output_accuracy: 0.6293 - val_department_output_loss: 0.7943 - val_loss: 1.1738\n",
      "Epoch 18/100\n",
      "\u001b[1m12/12\u001b[0m \u001b[32m━━━━━━━━━━━━━━━━━━━━\u001b[0m\u001b[37m\u001b[0m \u001b[1m0s\u001b[0m 9ms/step - attrition_output_accuracy: 0.8725 - attrition_output_loss: 0.3069 - department_output_accuracy: 0.7047 - department_output_loss: 0.6516 - loss: 0.9587 - val_attrition_output_accuracy: 0.8639 - val_attrition_output_loss: 0.3831 - val_department_output_accuracy: 0.6327 - val_department_output_loss: 0.8013 - val_loss: 1.1860\n",
      "Epoch 19/100\n",
      "\u001b[1m12/12\u001b[0m \u001b[32m━━━━━━━━━━━━━━━━━━━━\u001b[0m\u001b[37m\u001b[0m \u001b[1m0s\u001b[0m 9ms/step - attrition_output_accuracy: 0.8789 - attrition_output_loss: 0.3035 - department_output_accuracy: 0.7081 - department_output_loss: 0.6677 - loss: 0.9711 - val_attrition_output_accuracy: 0.8707 - val_attrition_output_loss: 0.3835 - val_department_output_accuracy: 0.6190 - val_department_output_loss: 0.8085 - val_loss: 1.1936\n",
      "Epoch 20/100\n",
      "\u001b[1m12/12\u001b[0m \u001b[32m━━━━━━━━━━━━━━━━━━━━\u001b[0m\u001b[37m\u001b[0m \u001b[1m0s\u001b[0m 7ms/step - attrition_output_accuracy: 0.8751 - attrition_output_loss: 0.3116 - department_output_accuracy: 0.7090 - department_output_loss: 0.6407 - loss: 0.9528 - val_attrition_output_accuracy: 0.8707 - val_attrition_output_loss: 0.3834 - val_department_output_accuracy: 0.6156 - val_department_output_loss: 0.8082 - val_loss: 1.1931\n",
      "Epoch 21/100\n",
      "\u001b[1m12/12\u001b[0m \u001b[32m━━━━━━━━━━━━━━━━━━━━\u001b[0m\u001b[37m\u001b[0m \u001b[1m0s\u001b[0m 8ms/step - attrition_output_accuracy: 0.8612 - attrition_output_loss: 0.3270 - department_output_accuracy: 0.7498 - department_output_loss: 0.6043 - loss: 0.9312 - val_attrition_output_accuracy: 0.8537 - val_attrition_output_loss: 0.3993 - val_department_output_accuracy: 0.6054 - val_department_output_loss: 0.8218 - val_loss: 1.2228\n",
      "Epoch 22/100\n",
      "\u001b[1m12/12\u001b[0m \u001b[32m━━━━━━━━━━━━━━━━━━━━\u001b[0m\u001b[37m\u001b[0m \u001b[1m0s\u001b[0m 7ms/step - attrition_output_accuracy: 0.8889 - attrition_output_loss: 0.2896 - department_output_accuracy: 0.7330 - department_output_loss: 0.6315 - loss: 0.9207 - val_attrition_output_accuracy: 0.8707 - val_attrition_output_loss: 0.3902 - val_department_output_accuracy: 0.6361 - val_department_output_loss: 0.8110 - val_loss: 1.2028\n",
      "Epoch 23/100\n",
      "\u001b[1m12/12\u001b[0m \u001b[32m━━━━━━━━━━━━━━━━━━━━\u001b[0m\u001b[37m\u001b[0m \u001b[1m0s\u001b[0m 8ms/step - attrition_output_accuracy: 0.8821 - attrition_output_loss: 0.3069 - department_output_accuracy: 0.7181 - department_output_loss: 0.6126 - loss: 0.9196 - val_attrition_output_accuracy: 0.8639 - val_attrition_output_loss: 0.3970 - val_department_output_accuracy: 0.6156 - val_department_output_loss: 0.8254 - val_loss: 1.2243\n",
      "Epoch 24/100\n",
      "\u001b[1m12/12\u001b[0m \u001b[32m━━━━━━━━━━━━━━━━━━━━\u001b[0m\u001b[37m\u001b[0m \u001b[1m0s\u001b[0m 7ms/step - attrition_output_accuracy: 0.8762 - attrition_output_loss: 0.2933 - department_output_accuracy: 0.7614 - department_output_loss: 0.5904 - loss: 0.8838 - val_attrition_output_accuracy: 0.8639 - val_attrition_output_loss: 0.3967 - val_department_output_accuracy: 0.6293 - val_department_output_loss: 0.8201 - val_loss: 1.2186\n",
      "Epoch 25/100\n",
      "\u001b[1m12/12\u001b[0m \u001b[32m━━━━━━━━━━━━━━━━━━━━\u001b[0m\u001b[37m\u001b[0m \u001b[1m0s\u001b[0m 7ms/step - attrition_output_accuracy: 0.8892 - attrition_output_loss: 0.2880 - department_output_accuracy: 0.7442 - department_output_loss: 0.5929 - loss: 0.8806 - val_attrition_output_accuracy: 0.8639 - val_attrition_output_loss: 0.4023 - val_department_output_accuracy: 0.5952 - val_department_output_loss: 0.8342 - val_loss: 1.2384\n",
      "Epoch 26/100\n",
      "\u001b[1m12/12\u001b[0m \u001b[32m━━━━━━━━━━━━━━━━━━━━\u001b[0m\u001b[37m\u001b[0m \u001b[1m0s\u001b[0m 8ms/step - attrition_output_accuracy: 0.8712 - attrition_output_loss: 0.2960 - department_output_accuracy: 0.7639 - department_output_loss: 0.5910 - loss: 0.8869 - val_attrition_output_accuracy: 0.8741 - val_attrition_output_loss: 0.4067 - val_department_output_accuracy: 0.6224 - val_department_output_loss: 0.8337 - val_loss: 1.2424\n",
      "Epoch 27/100\n",
      "\u001b[1m12/12\u001b[0m \u001b[32m━━━━━━━━━━━━━━━━━━━━\u001b[0m\u001b[37m\u001b[0m \u001b[1m0s\u001b[0m 7ms/step - attrition_output_accuracy: 0.8865 - attrition_output_loss: 0.2835 - department_output_accuracy: 0.7654 - department_output_loss: 0.5627 - loss: 0.8462 - val_attrition_output_accuracy: 0.8605 - val_attrition_output_loss: 0.4073 - val_department_output_accuracy: 0.6020 - val_department_output_loss: 0.8471 - val_loss: 1.2562\n",
      "Epoch 28/100\n",
      "\u001b[1m12/12\u001b[0m \u001b[32m━━━━━━━━━━━━━━━━━━━━\u001b[0m\u001b[37m\u001b[0m \u001b[1m0s\u001b[0m 8ms/step - attrition_output_accuracy: 0.8941 - attrition_output_loss: 0.2703 - department_output_accuracy: 0.7704 - department_output_loss: 0.5546 - loss: 0.8249 - val_attrition_output_accuracy: 0.8503 - val_attrition_output_loss: 0.4315 - val_department_output_accuracy: 0.6293 - val_department_output_loss: 0.8483 - val_loss: 1.2816\n",
      "Epoch 29/100\n",
      "\u001b[1m12/12\u001b[0m \u001b[32m━━━━━━━━━━━━━━━━━━━━\u001b[0m\u001b[37m\u001b[0m \u001b[1m0s\u001b[0m 7ms/step - attrition_output_accuracy: 0.8896 - attrition_output_loss: 0.2762 - department_output_accuracy: 0.7830 - department_output_loss: 0.5438 - loss: 0.8198 - val_attrition_output_accuracy: 0.8741 - val_attrition_output_loss: 0.4198 - val_department_output_accuracy: 0.5782 - val_department_output_loss: 0.8568 - val_loss: 1.2789\n",
      "Epoch 30/100\n",
      "\u001b[1m12/12\u001b[0m \u001b[32m━━━━━━━━━━━━━━━━━━━━\u001b[0m\u001b[37m\u001b[0m \u001b[1m0s\u001b[0m 8ms/step - attrition_output_accuracy: 0.8868 - attrition_output_loss: 0.2724 - department_output_accuracy: 0.7924 - department_output_loss: 0.5400 - loss: 0.8122 - val_attrition_output_accuracy: 0.8571 - val_attrition_output_loss: 0.4254 - val_department_output_accuracy: 0.5850 - val_department_output_loss: 0.8720 - val_loss: 1.2993\n",
      "Epoch 31/100\n",
      "\u001b[1m12/12\u001b[0m \u001b[32m━━━━━━━━━━━━━━━━━━━━\u001b[0m\u001b[37m\u001b[0m \u001b[1m0s\u001b[0m 8ms/step - attrition_output_accuracy: 0.8955 - attrition_output_loss: 0.2563 - department_output_accuracy: 0.7847 - department_output_loss: 0.5211 - loss: 0.7774 - val_attrition_output_accuracy: 0.8367 - val_attrition_output_loss: 0.4465 - val_department_output_accuracy: 0.6224 - val_department_output_loss: 0.8584 - val_loss: 1.3066\n",
      "Epoch 32/100\n",
      "\u001b[1m12/12\u001b[0m \u001b[32m━━━━━━━━━━━━━━━━━━━━\u001b[0m\u001b[37m\u001b[0m \u001b[1m0s\u001b[0m 8ms/step - attrition_output_accuracy: 0.8966 - attrition_output_loss: 0.2556 - department_output_accuracy: 0.8014 - department_output_loss: 0.5041 - loss: 0.7587 - val_attrition_output_accuracy: 0.8537 - val_attrition_output_loss: 0.4343 - val_department_output_accuracy: 0.5816 - val_department_output_loss: 0.8961 - val_loss: 1.3321\n",
      "Epoch 33/100\n",
      "\u001b[1m12/12\u001b[0m \u001b[32m━━━━━━━━━━━━━━━━━━━━\u001b[0m\u001b[37m\u001b[0m \u001b[1m0s\u001b[0m 7ms/step - attrition_output_accuracy: 0.9031 - attrition_output_loss: 0.2486 - department_output_accuracy: 0.7984 - department_output_loss: 0.5311 - loss: 0.7796 - val_attrition_output_accuracy: 0.8741 - val_attrition_output_loss: 0.4259 - val_department_output_accuracy: 0.6020 - val_department_output_loss: 0.8716 - val_loss: 1.2999\n",
      "Epoch 34/100\n",
      "\u001b[1m12/12\u001b[0m \u001b[32m━━━━━━━━━━━━━━━━━━━━\u001b[0m\u001b[37m\u001b[0m \u001b[1m0s\u001b[0m 8ms/step - attrition_output_accuracy: 0.8881 - attrition_output_loss: 0.2718 - department_output_accuracy: 0.7904 - department_output_loss: 0.5210 - loss: 0.7933 - val_attrition_output_accuracy: 0.8741 - val_attrition_output_loss: 0.4509 - val_department_output_accuracy: 0.6190 - val_department_output_loss: 0.8736 - val_loss: 1.3269\n",
      "Epoch 35/100\n",
      "\u001b[1m12/12\u001b[0m \u001b[32m━━━━━━━━━━━━━━━━━━━━\u001b[0m\u001b[37m\u001b[0m \u001b[1m0s\u001b[0m 8ms/step - attrition_output_accuracy: 0.8948 - attrition_output_loss: 0.2291 - department_output_accuracy: 0.8155 - department_output_loss: 0.4907 - loss: 0.7199 - val_attrition_output_accuracy: 0.8265 - val_attrition_output_loss: 0.4647 - val_department_output_accuracy: 0.6259 - val_department_output_loss: 0.8873 - val_loss: 1.3537\n",
      "Epoch 36/100\n",
      "\u001b[1m12/12\u001b[0m \u001b[32m━━━━━━━━━━━━━━━━━━━━\u001b[0m\u001b[37m\u001b[0m \u001b[1m0s\u001b[0m 12ms/step - attrition_output_accuracy: 0.9116 - attrition_output_loss: 0.2332 - department_output_accuracy: 0.8192 - department_output_loss: 0.4693 - loss: 0.7026 - val_attrition_output_accuracy: 0.8469 - val_attrition_output_loss: 0.4523 - val_department_output_accuracy: 0.6020 - val_department_output_loss: 0.9009 - val_loss: 1.3554\n",
      "Epoch 37/100\n",
      "\u001b[1m12/12\u001b[0m \u001b[32m━━━━━━━━━━━━━━━━━━━━\u001b[0m\u001b[37m\u001b[0m \u001b[1m0s\u001b[0m 10ms/step - attrition_output_accuracy: 0.9115 - attrition_output_loss: 0.2368 - department_output_accuracy: 0.8227 - department_output_loss: 0.4814 - loss: 0.7183 - val_attrition_output_accuracy: 0.8673 - val_attrition_output_loss: 0.4416 - val_department_output_accuracy: 0.5782 - val_department_output_loss: 0.9333 - val_loss: 1.3772\n",
      "Epoch 38/100\n",
      "\u001b[1m12/12\u001b[0m \u001b[32m━━━━━━━━━━━━━━━━━━━━\u001b[0m\u001b[37m\u001b[0m \u001b[1m0s\u001b[0m 9ms/step - attrition_output_accuracy: 0.9211 - attrition_output_loss: 0.2216 - department_output_accuracy: 0.8039 - department_output_loss: 0.4880 - loss: 0.7095 - val_attrition_output_accuracy: 0.8401 - val_attrition_output_loss: 0.4687 - val_department_output_accuracy: 0.6122 - val_department_output_loss: 0.9087 - val_loss: 1.3795\n",
      "Epoch 39/100\n",
      "\u001b[1m12/12\u001b[0m \u001b[32m━━━━━━━━━━━━━━━━━━━━\u001b[0m\u001b[37m\u001b[0m \u001b[1m0s\u001b[0m 17ms/step - attrition_output_accuracy: 0.9239 - attrition_output_loss: 0.1959 - department_output_accuracy: 0.8570 - department_output_loss: 0.4150 - loss: 0.6106 - val_attrition_output_accuracy: 0.8299 - val_attrition_output_loss: 0.4784 - val_department_output_accuracy: 0.5816 - val_department_output_loss: 0.9429 - val_loss: 1.4232\n",
      "Epoch 40/100\n",
      "\u001b[1m12/12\u001b[0m \u001b[32m━━━━━━━━━━━━━━━━━━━━\u001b[0m\u001b[37m\u001b[0m \u001b[1m0s\u001b[0m 10ms/step - attrition_output_accuracy: 0.9130 - attrition_output_loss: 0.2189 - department_output_accuracy: 0.8252 - department_output_loss: 0.4580 - loss: 0.6769 - val_attrition_output_accuracy: 0.8299 - val_attrition_output_loss: 0.4777 - val_department_output_accuracy: 0.5816 - val_department_output_loss: 0.9593 - val_loss: 1.4391\n",
      "Epoch 41/100\n",
      "\u001b[1m12/12\u001b[0m \u001b[32m━━━━━━━━━━━━━━━━━━━━\u001b[0m\u001b[37m\u001b[0m \u001b[1m0s\u001b[0m 10ms/step - attrition_output_accuracy: 0.9249 - attrition_output_loss: 0.2037 - department_output_accuracy: 0.8477 - department_output_loss: 0.4282 - loss: 0.6320 - val_attrition_output_accuracy: 0.8265 - val_attrition_output_loss: 0.4829 - val_department_output_accuracy: 0.5680 - val_department_output_loss: 0.9680 - val_loss: 1.4531\n",
      "Epoch 42/100\n",
      "\u001b[1m12/12\u001b[0m \u001b[32m━━━━━━━━━━━━━━━━━━━━\u001b[0m\u001b[37m\u001b[0m \u001b[1m0s\u001b[0m 12ms/step - attrition_output_accuracy: 0.9278 - attrition_output_loss: 0.2005 - department_output_accuracy: 0.8377 - department_output_loss: 0.4185 - loss: 0.6188 - val_attrition_output_accuracy: 0.8299 - val_attrition_output_loss: 0.5054 - val_department_output_accuracy: 0.5680 - val_department_output_loss: 0.9924 - val_loss: 1.4999\n",
      "Epoch 43/100\n",
      "\u001b[1m12/12\u001b[0m \u001b[32m━━━━━━━━━━━━━━━━━━━━\u001b[0m\u001b[37m\u001b[0m \u001b[1m0s\u001b[0m 9ms/step - attrition_output_accuracy: 0.9317 - attrition_output_loss: 0.1924 - department_output_accuracy: 0.8391 - department_output_loss: 0.4182 - loss: 0.6104 - val_attrition_output_accuracy: 0.8333 - val_attrition_output_loss: 0.4917 - val_department_output_accuracy: 0.5646 - val_department_output_loss: 0.9981 - val_loss: 1.4916\n",
      "Epoch 44/100\n",
      "\u001b[1m12/12\u001b[0m \u001b[32m━━━━━━━━━━━━━━━━━━━━\u001b[0m\u001b[37m\u001b[0m \u001b[1m0s\u001b[0m 10ms/step - attrition_output_accuracy: 0.9260 - attrition_output_loss: 0.2018 - department_output_accuracy: 0.8501 - department_output_loss: 0.4092 - loss: 0.6109 - val_attrition_output_accuracy: 0.8299 - val_attrition_output_loss: 0.5094 - val_department_output_accuracy: 0.5680 - val_department_output_loss: 1.0325 - val_loss: 1.5443\n",
      "Epoch 45/100\n",
      "\u001b[1m12/12\u001b[0m \u001b[32m━━━━━━━━━━━━━━━━━━━━\u001b[0m\u001b[37m\u001b[0m \u001b[1m0s\u001b[0m 8ms/step - attrition_output_accuracy: 0.9378 - attrition_output_loss: 0.1808 - department_output_accuracy: 0.8348 - department_output_loss: 0.4191 - loss: 0.5999 - val_attrition_output_accuracy: 0.8299 - val_attrition_output_loss: 0.5167 - val_department_output_accuracy: 0.5850 - val_department_output_loss: 1.0202 - val_loss: 1.5393\n",
      "Epoch 46/100\n",
      "\u001b[1m12/12\u001b[0m \u001b[32m━━━━━━━━━━━━━━━━━━━━\u001b[0m\u001b[37m\u001b[0m \u001b[1m0s\u001b[0m 8ms/step - attrition_output_accuracy: 0.9312 - attrition_output_loss: 0.1793 - department_output_accuracy: 0.8555 - department_output_loss: 0.3908 - loss: 0.5704 - val_attrition_output_accuracy: 0.8129 - val_attrition_output_loss: 0.5170 - val_department_output_accuracy: 0.6224 - val_department_output_loss: 1.0018 - val_loss: 1.5204\n",
      "Epoch 47/100\n",
      "\u001b[1m12/12\u001b[0m \u001b[32m━━━━━━━━━━━━━━━━━━━━\u001b[0m\u001b[37m\u001b[0m \u001b[1m0s\u001b[0m 8ms/step - attrition_output_accuracy: 0.9263 - attrition_output_loss: 0.1895 - department_output_accuracy: 0.8724 - department_output_loss: 0.3758 - loss: 0.5653 - val_attrition_output_accuracy: 0.8469 - val_attrition_output_loss: 0.5305 - val_department_output_accuracy: 0.5850 - val_department_output_loss: 1.0220 - val_loss: 1.5547\n",
      "Epoch 48/100\n",
      "\u001b[1m12/12\u001b[0m \u001b[32m━━━━━━━━━━━━━━━━━━━━\u001b[0m\u001b[37m\u001b[0m \u001b[1m0s\u001b[0m 8ms/step - attrition_output_accuracy: 0.9427 - attrition_output_loss: 0.1623 - department_output_accuracy: 0.8636 - department_output_loss: 0.3783 - loss: 0.5406 - val_attrition_output_accuracy: 0.8299 - val_attrition_output_loss: 0.5404 - val_department_output_accuracy: 0.6054 - val_department_output_loss: 1.0289 - val_loss: 1.5712\n",
      "Epoch 49/100\n",
      "\u001b[1m12/12\u001b[0m \u001b[32m━━━━━━━━━━━━━━━━━━━━\u001b[0m\u001b[37m\u001b[0m \u001b[1m0s\u001b[0m 10ms/step - attrition_output_accuracy: 0.9403 - attrition_output_loss: 0.1635 - department_output_accuracy: 0.8839 - department_output_loss: 0.3495 - loss: 0.5130 - val_attrition_output_accuracy: 0.8401 - val_attrition_output_loss: 0.5450 - val_department_output_accuracy: 0.5816 - val_department_output_loss: 1.0638 - val_loss: 1.6111\n",
      "Epoch 50/100\n",
      "\u001b[1m12/12\u001b[0m \u001b[32m━━━━━━━━━━━━━━━━━━━━\u001b[0m\u001b[37m\u001b[0m \u001b[1m0s\u001b[0m 8ms/step - attrition_output_accuracy: 0.9383 - attrition_output_loss: 0.1557 - department_output_accuracy: 0.8774 - department_output_loss: 0.3496 - loss: 0.5054 - val_attrition_output_accuracy: 0.8299 - val_attrition_output_loss: 0.5677 - val_department_output_accuracy: 0.5782 - val_department_output_loss: 1.0592 - val_loss: 1.6288\n",
      "Epoch 51/100\n",
      "\u001b[1m12/12\u001b[0m \u001b[32m━━━━━━━━━━━━━━━━━━━━\u001b[0m\u001b[37m\u001b[0m \u001b[1m0s\u001b[0m 10ms/step - attrition_output_accuracy: 0.9533 - attrition_output_loss: 0.1463 - department_output_accuracy: 0.8728 - department_output_loss: 0.3577 - loss: 0.5043 - val_attrition_output_accuracy: 0.8231 - val_attrition_output_loss: 0.5624 - val_department_output_accuracy: 0.5918 - val_department_output_loss: 1.0796 - val_loss: 1.6439\n",
      "Epoch 52/100\n",
      "\u001b[1m12/12\u001b[0m \u001b[32m━━━━━━━━━━━━━━━━━━━━\u001b[0m\u001b[37m\u001b[0m \u001b[1m0s\u001b[0m 11ms/step - attrition_output_accuracy: 0.9444 - attrition_output_loss: 0.1643 - department_output_accuracy: 0.8871 - department_output_loss: 0.3336 - loss: 0.4980 - val_attrition_output_accuracy: 0.8367 - val_attrition_output_loss: 0.5806 - val_department_output_accuracy: 0.5918 - val_department_output_loss: 1.1045 - val_loss: 1.6872\n",
      "Epoch 53/100\n",
      "\u001b[1m12/12\u001b[0m \u001b[32m━━━━━━━━━━━━━━━━━━━━\u001b[0m\u001b[37m\u001b[0m \u001b[1m0s\u001b[0m 8ms/step - attrition_output_accuracy: 0.9534 - attrition_output_loss: 0.1477 - department_output_accuracy: 0.8675 - department_output_loss: 0.3457 - loss: 0.4934 - val_attrition_output_accuracy: 0.8367 - val_attrition_output_loss: 0.5882 - val_department_output_accuracy: 0.5850 - val_department_output_loss: 1.1104 - val_loss: 1.7012\n",
      "Epoch 54/100\n",
      "\u001b[1m12/12\u001b[0m \u001b[32m━━━━━━━━━━━━━━━━━━━━\u001b[0m\u001b[37m\u001b[0m \u001b[1m0s\u001b[0m 8ms/step - attrition_output_accuracy: 0.9556 - attrition_output_loss: 0.1371 - department_output_accuracy: 0.8869 - department_output_loss: 0.3286 - loss: 0.4656 - val_attrition_output_accuracy: 0.8231 - val_attrition_output_loss: 0.5913 - val_department_output_accuracy: 0.5884 - val_department_output_loss: 1.1169 - val_loss: 1.7096\n",
      "Epoch 55/100\n",
      "\u001b[1m12/12\u001b[0m \u001b[32m━━━━━━━━━━━━━━━━━━━━\u001b[0m\u001b[37m\u001b[0m \u001b[1m0s\u001b[0m 8ms/step - attrition_output_accuracy: 0.9554 - attrition_output_loss: 0.1304 - department_output_accuracy: 0.8768 - department_output_loss: 0.3278 - loss: 0.4582 - val_attrition_output_accuracy: 0.8231 - val_attrition_output_loss: 0.6130 - val_department_output_accuracy: 0.6020 - val_department_output_loss: 1.1590 - val_loss: 1.7738\n",
      "Epoch 56/100\n",
      "\u001b[1m12/12\u001b[0m \u001b[32m━━━━━━━━━━━━━━━━━━━━\u001b[0m\u001b[37m\u001b[0m \u001b[1m0s\u001b[0m 8ms/step - attrition_output_accuracy: 0.9509 - attrition_output_loss: 0.1425 - department_output_accuracy: 0.8831 - department_output_loss: 0.3091 - loss: 0.4515 - val_attrition_output_accuracy: 0.8265 - val_attrition_output_loss: 0.6077 - val_department_output_accuracy: 0.5952 - val_department_output_loss: 1.1383 - val_loss: 1.7480\n",
      "Epoch 57/100\n",
      "\u001b[1m12/12\u001b[0m \u001b[32m━━━━━━━━━━━━━━━━━━━━\u001b[0m\u001b[37m\u001b[0m \u001b[1m0s\u001b[0m 10ms/step - attrition_output_accuracy: 0.9566 - attrition_output_loss: 0.1226 - department_output_accuracy: 0.8929 - department_output_loss: 0.2876 - loss: 0.4102 - val_attrition_output_accuracy: 0.8265 - val_attrition_output_loss: 0.6326 - val_department_output_accuracy: 0.5884 - val_department_output_loss: 1.1701 - val_loss: 1.8050\n",
      "Epoch 58/100\n",
      "\u001b[1m12/12\u001b[0m \u001b[32m━━━━━━━━━━━━━━━━━━━━\u001b[0m\u001b[37m\u001b[0m \u001b[1m0s\u001b[0m 11ms/step - attrition_output_accuracy: 0.9635 - attrition_output_loss: 0.1258 - department_output_accuracy: 0.9114 - department_output_loss: 0.2818 - loss: 0.4075 - val_attrition_output_accuracy: 0.8231 - val_attrition_output_loss: 0.6320 - val_department_output_accuracy: 0.5782 - val_department_output_loss: 1.2228 - val_loss: 1.8566\n",
      "Epoch 59/100\n",
      "\u001b[1m12/12\u001b[0m \u001b[32m━━━━━━━━━━━━━━━━━━━━\u001b[0m\u001b[37m\u001b[0m \u001b[1m0s\u001b[0m 9ms/step - attrition_output_accuracy: 0.9577 - attrition_output_loss: 0.1247 - department_output_accuracy: 0.9040 - department_output_loss: 0.2917 - loss: 0.4164 - val_attrition_output_accuracy: 0.8231 - val_attrition_output_loss: 0.6534 - val_department_output_accuracy: 0.5748 - val_department_output_loss: 1.2158 - val_loss: 1.8721\n",
      "Epoch 60/100\n",
      "\u001b[1m12/12\u001b[0m \u001b[32m━━━━━━━━━━━━━━━━━━━━\u001b[0m\u001b[37m\u001b[0m \u001b[1m0s\u001b[0m 10ms/step - attrition_output_accuracy: 0.9528 - attrition_output_loss: 0.1243 - department_output_accuracy: 0.9056 - department_output_loss: 0.2891 - loss: 0.4131 - val_attrition_output_accuracy: 0.8265 - val_attrition_output_loss: 0.6570 - val_department_output_accuracy: 0.5714 - val_department_output_loss: 1.2493 - val_loss: 1.9084\n",
      "Epoch 61/100\n",
      "\u001b[1m12/12\u001b[0m \u001b[32m━━━━━━━━━━━━━━━━━━━━\u001b[0m\u001b[37m\u001b[0m \u001b[1m0s\u001b[0m 11ms/step - attrition_output_accuracy: 0.9695 - attrition_output_loss: 0.1120 - department_output_accuracy: 0.9210 - department_output_loss: 0.2633 - loss: 0.3751 - val_attrition_output_accuracy: 0.8231 - val_attrition_output_loss: 0.6773 - val_department_output_accuracy: 0.5850 - val_department_output_loss: 1.2513 - val_loss: 1.9311\n",
      "Epoch 62/100\n",
      "\u001b[1m12/12\u001b[0m \u001b[32m━━━━━━━━━━━━━━━━━━━━\u001b[0m\u001b[37m\u001b[0m \u001b[1m0s\u001b[0m 9ms/step - attrition_output_accuracy: 0.9750 - attrition_output_loss: 0.1093 - department_output_accuracy: 0.9074 - department_output_loss: 0.2738 - loss: 0.3831 - val_attrition_output_accuracy: 0.8265 - val_attrition_output_loss: 0.6821 - val_department_output_accuracy: 0.5714 - val_department_output_loss: 1.2750 - val_loss: 1.9593\n",
      "Epoch 63/100\n",
      "\u001b[1m12/12\u001b[0m \u001b[32m━━━━━━━━━━━━━━━━━━━━\u001b[0m\u001b[37m\u001b[0m \u001b[1m0s\u001b[0m 9ms/step - attrition_output_accuracy: 0.9625 - attrition_output_loss: 0.1085 - department_output_accuracy: 0.9241 - department_output_loss: 0.2417 - loss: 0.3504 - val_attrition_output_accuracy: 0.8265 - val_attrition_output_loss: 0.7040 - val_department_output_accuracy: 0.5714 - val_department_output_loss: 1.2755 - val_loss: 1.9823\n",
      "Epoch 64/100\n",
      "\u001b[1m12/12\u001b[0m \u001b[32m━━━━━━━━━━━━━━━━━━━━\u001b[0m\u001b[37m\u001b[0m \u001b[1m0s\u001b[0m 9ms/step - attrition_output_accuracy: 0.9567 - attrition_output_loss: 0.1002 - department_output_accuracy: 0.9259 - department_output_loss: 0.2450 - loss: 0.3451 - val_attrition_output_accuracy: 0.8163 - val_attrition_output_loss: 0.7029 - val_department_output_accuracy: 0.5816 - val_department_output_loss: 1.2975 - val_loss: 2.0018\n",
      "Epoch 65/100\n",
      "\u001b[1m12/12\u001b[0m \u001b[32m━━━━━━━━━━━━━━━━━━━━\u001b[0m\u001b[37m\u001b[0m \u001b[1m0s\u001b[0m 9ms/step - attrition_output_accuracy: 0.9698 - attrition_output_loss: 0.0977 - department_output_accuracy: 0.9208 - department_output_loss: 0.2353 - loss: 0.3330 - val_attrition_output_accuracy: 0.8333 - val_attrition_output_loss: 0.7317 - val_department_output_accuracy: 0.5782 - val_department_output_loss: 1.3026 - val_loss: 2.0362\n",
      "Epoch 66/100\n",
      "\u001b[1m12/12\u001b[0m \u001b[32m━━━━━━━━━━━━━━━━━━━━\u001b[0m\u001b[37m\u001b[0m \u001b[1m0s\u001b[0m 9ms/step - attrition_output_accuracy: 0.9738 - attrition_output_loss: 0.0881 - department_output_accuracy: 0.9185 - department_output_loss: 0.2445 - loss: 0.3325 - val_attrition_output_accuracy: 0.8197 - val_attrition_output_loss: 0.7371 - val_department_output_accuracy: 0.5850 - val_department_output_loss: 1.3558 - val_loss: 2.0944\n",
      "Epoch 67/100\n",
      "\u001b[1m12/12\u001b[0m \u001b[32m━━━━━━━━━━━━━━━━━━━━\u001b[0m\u001b[37m\u001b[0m \u001b[1m0s\u001b[0m 12ms/step - attrition_output_accuracy: 0.9838 - attrition_output_loss: 0.0844 - department_output_accuracy: 0.9325 - department_output_loss: 0.2113 - loss: 0.2956 - val_attrition_output_accuracy: 0.8129 - val_attrition_output_loss: 0.7604 - val_department_output_accuracy: 0.5680 - val_department_output_loss: 1.3377 - val_loss: 2.1001\n",
      "Epoch 68/100\n",
      "\u001b[1m12/12\u001b[0m \u001b[32m━━━━━━━━━━━━━━━━━━━━\u001b[0m\u001b[37m\u001b[0m \u001b[1m0s\u001b[0m 10ms/step - attrition_output_accuracy: 0.9724 - attrition_output_loss: 0.0970 - department_output_accuracy: 0.9342 - department_output_loss: 0.2181 - loss: 0.3151 - val_attrition_output_accuracy: 0.8299 - val_attrition_output_loss: 0.7763 - val_department_output_accuracy: 0.5748 - val_department_output_loss: 1.3822 - val_loss: 2.1605\n",
      "Epoch 69/100\n",
      "\u001b[1m12/12\u001b[0m \u001b[32m━━━━━━━━━━━━━━━━━━━━\u001b[0m\u001b[37m\u001b[0m \u001b[1m0s\u001b[0m 10ms/step - attrition_output_accuracy: 0.9773 - attrition_output_loss: 0.0836 - department_output_accuracy: 0.9442 - department_output_loss: 0.2105 - loss: 0.2942 - val_attrition_output_accuracy: 0.8231 - val_attrition_output_loss: 0.7703 - val_department_output_accuracy: 0.5748 - val_department_output_loss: 1.3831 - val_loss: 2.1554\n",
      "Epoch 70/100\n",
      "\u001b[1m12/12\u001b[0m \u001b[32m━━━━━━━━━━━━━━━━━━━━\u001b[0m\u001b[37m\u001b[0m \u001b[1m0s\u001b[0m 10ms/step - attrition_output_accuracy: 0.9804 - attrition_output_loss: 0.0873 - department_output_accuracy: 0.9426 - department_output_loss: 0.2064 - loss: 0.2938 - val_attrition_output_accuracy: 0.8095 - val_attrition_output_loss: 0.7845 - val_department_output_accuracy: 0.5408 - val_department_output_loss: 1.4520 - val_loss: 2.2389\n",
      "Epoch 71/100\n",
      "\u001b[1m12/12\u001b[0m \u001b[32m━━━━━━━━━━━━━━━━━━━━\u001b[0m\u001b[37m\u001b[0m \u001b[1m0s\u001b[0m 12ms/step - attrition_output_accuracy: 0.9837 - attrition_output_loss: 0.0828 - department_output_accuracy: 0.9435 - department_output_loss: 0.1916 - loss: 0.2742 - val_attrition_output_accuracy: 0.8299 - val_attrition_output_loss: 0.7985 - val_department_output_accuracy: 0.5612 - val_department_output_loss: 1.4597 - val_loss: 2.2607\n",
      "Epoch 72/100\n",
      "\u001b[1m12/12\u001b[0m \u001b[32m━━━━━━━━━━━━━━━━━━━━\u001b[0m\u001b[37m\u001b[0m \u001b[1m0s\u001b[0m 13ms/step - attrition_output_accuracy: 0.9798 - attrition_output_loss: 0.0745 - department_output_accuracy: 0.9504 - department_output_loss: 0.1924 - loss: 0.2669 - val_attrition_output_accuracy: 0.8231 - val_attrition_output_loss: 0.8118 - val_department_output_accuracy: 0.5612 - val_department_output_loss: 1.4441 - val_loss: 2.2580\n",
      "Epoch 73/100\n",
      "\u001b[1m12/12\u001b[0m \u001b[32m━━━━━━━━━━━━━━━━━━━━\u001b[0m\u001b[37m\u001b[0m \u001b[1m0s\u001b[0m 9ms/step - attrition_output_accuracy: 0.9841 - attrition_output_loss: 0.0710 - department_output_accuracy: 0.9372 - department_output_loss: 0.1907 - loss: 0.2615 - val_attrition_output_accuracy: 0.8163 - val_attrition_output_loss: 0.8370 - val_department_output_accuracy: 0.5612 - val_department_output_loss: 1.4843 - val_loss: 2.3225\n",
      "Epoch 74/100\n",
      "\u001b[1m12/12\u001b[0m \u001b[32m━━━━━━━━━━━━━━━━━━━━\u001b[0m\u001b[37m\u001b[0m \u001b[1m0s\u001b[0m 9ms/step - attrition_output_accuracy: 0.9814 - attrition_output_loss: 0.0687 - department_output_accuracy: 0.9429 - department_output_loss: 0.1897 - loss: 0.2586 - val_attrition_output_accuracy: 0.8027 - val_attrition_output_loss: 0.8546 - val_department_output_accuracy: 0.5408 - val_department_output_loss: 1.5408 - val_loss: 2.3984\n",
      "Epoch 75/100\n",
      "\u001b[1m12/12\u001b[0m \u001b[32m━━━━━━━━━━━━━━━━━━━━\u001b[0m\u001b[37m\u001b[0m \u001b[1m0s\u001b[0m 10ms/step - attrition_output_accuracy: 0.9851 - attrition_output_loss: 0.0639 - department_output_accuracy: 0.9563 - department_output_loss: 0.1723 - loss: 0.2361 - val_attrition_output_accuracy: 0.8231 - val_attrition_output_loss: 0.8308 - val_department_output_accuracy: 0.5646 - val_department_output_loss: 1.5333 - val_loss: 2.3661\n",
      "Epoch 76/100\n",
      "\u001b[1m12/12\u001b[0m \u001b[32m━━━━━━━━━━━━━━━━━━━━\u001b[0m\u001b[37m\u001b[0m \u001b[1m0s\u001b[0m 10ms/step - attrition_output_accuracy: 0.9880 - attrition_output_loss: 0.0586 - department_output_accuracy: 0.9578 - department_output_loss: 0.1667 - loss: 0.2252 - val_attrition_output_accuracy: 0.8061 - val_attrition_output_loss: 0.8785 - val_department_output_accuracy: 0.5612 - val_department_output_loss: 1.5792 - val_loss: 2.4602\n",
      "Epoch 77/100\n",
      "\u001b[1m12/12\u001b[0m \u001b[32m━━━━━━━━━━━━━━━━━━━━\u001b[0m\u001b[37m\u001b[0m \u001b[1m0s\u001b[0m 10ms/step - attrition_output_accuracy: 0.9881 - attrition_output_loss: 0.0710 - department_output_accuracy: 0.9558 - department_output_loss: 0.1609 - loss: 0.2319 - val_attrition_output_accuracy: 0.8061 - val_attrition_output_loss: 0.8747 - val_department_output_accuracy: 0.5714 - val_department_output_loss: 1.5981 - val_loss: 2.4749\n",
      "Epoch 78/100\n",
      "\u001b[1m12/12\u001b[0m \u001b[32m━━━━━━━━━━━━━━━━━━━━\u001b[0m\u001b[37m\u001b[0m \u001b[1m0s\u001b[0m 10ms/step - attrition_output_accuracy: 0.9886 - attrition_output_loss: 0.0562 - department_output_accuracy: 0.9651 - department_output_loss: 0.1540 - loss: 0.2101 - val_attrition_output_accuracy: 0.8095 - val_attrition_output_loss: 0.9145 - val_department_output_accuracy: 0.5612 - val_department_output_loss: 1.5969 - val_loss: 2.5129\n",
      "Epoch 79/100\n",
      "\u001b[1m12/12\u001b[0m \u001b[32m━━━━━━━━━━━━━━━━━━━━\u001b[0m\u001b[37m\u001b[0m \u001b[1m0s\u001b[0m 10ms/step - attrition_output_accuracy: 0.9890 - attrition_output_loss: 0.0640 - department_output_accuracy: 0.9571 - department_output_loss: 0.1577 - loss: 0.2218 - val_attrition_output_accuracy: 0.8095 - val_attrition_output_loss: 0.9149 - val_department_output_accuracy: 0.5646 - val_department_output_loss: 1.6280 - val_loss: 2.5459\n",
      "Epoch 80/100\n",
      "\u001b[1m12/12\u001b[0m \u001b[32m━━━━━━━━━━━━━━━━━━━━\u001b[0m\u001b[37m\u001b[0m \u001b[1m0s\u001b[0m 9ms/step - attrition_output_accuracy: 0.9909 - attrition_output_loss: 0.0561 - department_output_accuracy: 0.9577 - department_output_loss: 0.1492 - loss: 0.2053 - val_attrition_output_accuracy: 0.8027 - val_attrition_output_loss: 0.9348 - val_department_output_accuracy: 0.5646 - val_department_output_loss: 1.6663 - val_loss: 2.6022\n",
      "Epoch 81/100\n",
      "\u001b[1m12/12\u001b[0m \u001b[32m━━━━━━━━━━━━━━━━━━━━\u001b[0m\u001b[37m\u001b[0m \u001b[1m0s\u001b[0m 9ms/step - attrition_output_accuracy: 0.9910 - attrition_output_loss: 0.0520 - department_output_accuracy: 0.9572 - department_output_loss: 0.1543 - loss: 0.2063 - val_attrition_output_accuracy: 0.8163 - val_attrition_output_loss: 0.9174 - val_department_output_accuracy: 0.5714 - val_department_output_loss: 1.6900 - val_loss: 2.6093\n",
      "Epoch 82/100\n",
      "\u001b[1m12/12\u001b[0m \u001b[32m━━━━━━━━━━━━━━━━━━━━\u001b[0m\u001b[37m\u001b[0m \u001b[1m0s\u001b[0m 11ms/step - attrition_output_accuracy: 0.9879 - attrition_output_loss: 0.0504 - department_output_accuracy: 0.9597 - department_output_loss: 0.1459 - loss: 0.1962 - val_attrition_output_accuracy: 0.8197 - val_attrition_output_loss: 0.9310 - val_department_output_accuracy: 0.5476 - val_department_output_loss: 1.7022 - val_loss: 2.6350\n",
      "Epoch 83/100\n",
      "\u001b[1m12/12\u001b[0m \u001b[32m━━━━━━━━━━━━━━━━━━━━\u001b[0m\u001b[37m\u001b[0m \u001b[1m0s\u001b[0m 9ms/step - attrition_output_accuracy: 0.9902 - attrition_output_loss: 0.0499 - department_output_accuracy: 0.9711 - department_output_loss: 0.1342 - loss: 0.1841 - val_attrition_output_accuracy: 0.8163 - val_attrition_output_loss: 0.9558 - val_department_output_accuracy: 0.5646 - val_department_output_loss: 1.7112 - val_loss: 2.6688\n",
      "Epoch 84/100\n",
      "\u001b[1m12/12\u001b[0m \u001b[32m━━━━━━━━━━━━━━━━━━━━\u001b[0m\u001b[37m\u001b[0m \u001b[1m0s\u001b[0m 9ms/step - attrition_output_accuracy: 0.9927 - attrition_output_loss: 0.0457 - department_output_accuracy: 0.9676 - department_output_loss: 0.1269 - loss: 0.1724 - val_attrition_output_accuracy: 0.8027 - val_attrition_output_loss: 0.9799 - val_department_output_accuracy: 0.5646 - val_department_output_loss: 1.7667 - val_loss: 2.7489\n",
      "Epoch 85/100\n",
      "\u001b[1m12/12\u001b[0m \u001b[32m━━━━━━━━━━━━━━━━━━━━\u001b[0m\u001b[37m\u001b[0m \u001b[1m0s\u001b[0m 9ms/step - attrition_output_accuracy: 0.9888 - attrition_output_loss: 0.0529 - department_output_accuracy: 0.9744 - department_output_loss: 0.1221 - loss: 0.1747 - val_attrition_output_accuracy: 0.8197 - val_attrition_output_loss: 0.9867 - val_department_output_accuracy: 0.5544 - val_department_output_loss: 1.7596 - val_loss: 2.7487\n",
      "Epoch 86/100\n",
      "\u001b[1m12/12\u001b[0m \u001b[32m━━━━━━━━━━━━━━━━━━━━\u001b[0m\u001b[37m\u001b[0m \u001b[1m0s\u001b[0m 9ms/step - attrition_output_accuracy: 0.9916 - attrition_output_loss: 0.0453 - department_output_accuracy: 0.9683 - department_output_loss: 0.1243 - loss: 0.1696 - val_attrition_output_accuracy: 0.8095 - val_attrition_output_loss: 1.0040 - val_department_output_accuracy: 0.5476 - val_department_output_loss: 1.8544 - val_loss: 2.8614\n",
      "Epoch 87/100\n",
      "\u001b[1m12/12\u001b[0m \u001b[32m━━━━━━━━━━━━━━━━━━━━\u001b[0m\u001b[37m\u001b[0m \u001b[1m0s\u001b[0m 9ms/step - attrition_output_accuracy: 0.9933 - attrition_output_loss: 0.0378 - department_output_accuracy: 0.9776 - department_output_loss: 0.1217 - loss: 0.1593 - val_attrition_output_accuracy: 0.8095 - val_attrition_output_loss: 0.9928 - val_department_output_accuracy: 0.5544 - val_department_output_loss: 1.8368 - val_loss: 2.8317\n",
      "Epoch 88/100\n",
      "\u001b[1m12/12\u001b[0m \u001b[32m━━━━━━━━━━━━━━━━━━━━\u001b[0m\u001b[37m\u001b[0m \u001b[1m0s\u001b[0m 9ms/step - attrition_output_accuracy: 0.9918 - attrition_output_loss: 0.0437 - department_output_accuracy: 0.9697 - department_output_loss: 0.1162 - loss: 0.1600 - val_attrition_output_accuracy: 0.8061 - val_attrition_output_loss: 1.0357 - val_department_output_accuracy: 0.5612 - val_department_output_loss: 1.8945 - val_loss: 2.9319\n",
      "Epoch 89/100\n",
      "\u001b[1m12/12\u001b[0m \u001b[32m━━━━━━━━━━━━━━━━━━━━\u001b[0m\u001b[37m\u001b[0m \u001b[1m0s\u001b[0m 10ms/step - attrition_output_accuracy: 0.9909 - attrition_output_loss: 0.0455 - department_output_accuracy: 0.9804 - department_output_loss: 0.0994 - loss: 0.1448 - val_attrition_output_accuracy: 0.8027 - val_attrition_output_loss: 1.0483 - val_department_output_accuracy: 0.5714 - val_department_output_loss: 1.8415 - val_loss: 2.8918\n",
      "Epoch 90/100\n",
      "\u001b[1m12/12\u001b[0m \u001b[32m━━━━━━━━━━━━━━━━━━━━\u001b[0m\u001b[37m\u001b[0m \u001b[1m0s\u001b[0m 8ms/step - attrition_output_accuracy: 0.9954 - attrition_output_loss: 0.0408 - department_output_accuracy: 0.9796 - department_output_loss: 0.1025 - loss: 0.1433 - val_attrition_output_accuracy: 0.8061 - val_attrition_output_loss: 1.0581 - val_department_output_accuracy: 0.5578 - val_department_output_loss: 1.8861 - val_loss: 2.9465\n",
      "Epoch 91/100\n",
      "\u001b[1m12/12\u001b[0m \u001b[32m━━━━━━━━━━━━━━━━━━━━\u001b[0m\u001b[37m\u001b[0m \u001b[1m0s\u001b[0m 8ms/step - attrition_output_accuracy: 0.9945 - attrition_output_loss: 0.0401 - department_output_accuracy: 0.9731 - department_output_loss: 0.1003 - loss: 0.1405 - val_attrition_output_accuracy: 0.8129 - val_attrition_output_loss: 1.0444 - val_department_output_accuracy: 0.5646 - val_department_output_loss: 1.9274 - val_loss: 2.9739\n",
      "Epoch 92/100\n",
      "\u001b[1m12/12\u001b[0m \u001b[32m━━━━━━━━━━━━━━━━━━━━\u001b[0m\u001b[37m\u001b[0m \u001b[1m0s\u001b[0m 8ms/step - attrition_output_accuracy: 0.9930 - attrition_output_loss: 0.0346 - department_output_accuracy: 0.9843 - department_output_loss: 0.0919 - loss: 0.1263 - val_attrition_output_accuracy: 0.7993 - val_attrition_output_loss: 1.0889 - val_department_output_accuracy: 0.5442 - val_department_output_loss: 1.9379 - val_loss: 3.0290\n",
      "Epoch 93/100\n",
      "\u001b[1m12/12\u001b[0m \u001b[32m━━━━━━━━━━━━━━━━━━━━\u001b[0m\u001b[37m\u001b[0m \u001b[1m0s\u001b[0m 8ms/step - attrition_output_accuracy: 0.9970 - attrition_output_loss: 0.0335 - department_output_accuracy: 0.9887 - department_output_loss: 0.0857 - loss: 0.1191 - val_attrition_output_accuracy: 0.8163 - val_attrition_output_loss: 1.0779 - val_department_output_accuracy: 0.5510 - val_department_output_loss: 1.9591 - val_loss: 3.0391\n",
      "Epoch 94/100\n",
      "\u001b[1m12/12\u001b[0m \u001b[32m━━━━━━━━━━━━━━━━━━━━\u001b[0m\u001b[37m\u001b[0m \u001b[1m0s\u001b[0m 8ms/step - attrition_output_accuracy: 0.9928 - attrition_output_loss: 0.0347 - department_output_accuracy: 0.9855 - department_output_loss: 0.0873 - loss: 0.1221 - val_attrition_output_accuracy: 0.8163 - val_attrition_output_loss: 1.0981 - val_department_output_accuracy: 0.5476 - val_department_output_loss: 1.9990 - val_loss: 3.1001\n",
      "Epoch 95/100\n",
      "\u001b[1m12/12\u001b[0m \u001b[32m━━━━━━━━━━━━━━━━━━━━\u001b[0m\u001b[37m\u001b[0m \u001b[1m0s\u001b[0m 8ms/step - attrition_output_accuracy: 0.9960 - attrition_output_loss: 0.0313 - department_output_accuracy: 0.9868 - department_output_loss: 0.0846 - loss: 0.1160 - val_attrition_output_accuracy: 0.8299 - val_attrition_output_loss: 1.1134 - val_department_output_accuracy: 0.5578 - val_department_output_loss: 1.9925 - val_loss: 3.1084\n",
      "Epoch 96/100\n",
      "\u001b[1m12/12\u001b[0m \u001b[32m━━━━━━━━━━━━━━━━━━━━\u001b[0m\u001b[37m\u001b[0m \u001b[1m0s\u001b[0m 8ms/step - attrition_output_accuracy: 0.9942 - attrition_output_loss: 0.0335 - department_output_accuracy: 0.9837 - department_output_loss: 0.0831 - loss: 0.1167 - val_attrition_output_accuracy: 0.8095 - val_attrition_output_loss: 1.1311 - val_department_output_accuracy: 0.5612 - val_department_output_loss: 2.0020 - val_loss: 3.1359\n",
      "Epoch 97/100\n",
      "\u001b[1m12/12\u001b[0m \u001b[32m━━━━━━━━━━━━━━━━━━━━\u001b[0m\u001b[37m\u001b[0m \u001b[1m0s\u001b[0m 8ms/step - attrition_output_accuracy: 0.9932 - attrition_output_loss: 0.0320 - department_output_accuracy: 0.9887 - department_output_loss: 0.0824 - loss: 0.1143 - val_attrition_output_accuracy: 0.8061 - val_attrition_output_loss: 1.1284 - val_department_output_accuracy: 0.5476 - val_department_output_loss: 2.0643 - val_loss: 3.1950\n",
      "Epoch 98/100\n",
      "\u001b[1m12/12\u001b[0m \u001b[32m━━━━━━━━━━━━━━━━━━━━\u001b[0m\u001b[37m\u001b[0m \u001b[1m0s\u001b[0m 8ms/step - attrition_output_accuracy: 0.9956 - attrition_output_loss: 0.0335 - department_output_accuracy: 0.9875 - department_output_loss: 0.0803 - loss: 0.1138 - val_attrition_output_accuracy: 0.8129 - val_attrition_output_loss: 1.1246 - val_department_output_accuracy: 0.5646 - val_department_output_loss: 2.0776 - val_loss: 3.2054\n",
      "Epoch 99/100\n",
      "\u001b[1m12/12\u001b[0m \u001b[32m━━━━━━━━━━━━━━━━━━━━\u001b[0m\u001b[37m\u001b[0m \u001b[1m0s\u001b[0m 9ms/step - attrition_output_accuracy: 0.9974 - attrition_output_loss: 0.0310 - department_output_accuracy: 0.9889 - department_output_loss: 0.0743 - loss: 0.1053 - val_attrition_output_accuracy: 0.7993 - val_attrition_output_loss: 1.1870 - val_department_output_accuracy: 0.5578 - val_department_output_loss: 2.0772 - val_loss: 3.2664\n",
      "Epoch 100/100\n",
      "\u001b[1m12/12\u001b[0m \u001b[32m━━━━━━━━━━━━━━━━━━━━\u001b[0m\u001b[37m\u001b[0m \u001b[1m0s\u001b[0m 8ms/step - attrition_output_accuracy: 0.9928 - attrition_output_loss: 0.0294 - department_output_accuracy: 0.9937 - department_output_loss: 0.0690 - loss: 0.0980 - val_attrition_output_accuracy: 0.8095 - val_attrition_output_loss: 1.1586 - val_department_output_accuracy: 0.5510 - val_department_output_loss: 2.1042 - val_loss: 3.2647\n"
     ]
    }
   ],
   "source": [
    "# Train the model\n",
    "history = model.fit(\n",
    "X_train_scaled,\n",
    "{'department_output': y_train_encoded, 'attrition_output': y_train_attrition_encoded},\n",
    "epochs=100,\n",
    "batch_size=100,\n",
    "validation_data=(X_test_scaled, {'department_output': y_test_encoded, 'attrition_output': y_test_attrition_encoded}),\n",
    "verbose=1\n",
    ")"
   ]
  },
  {
   "cell_type": "code",
   "execution_count": 43,
   "metadata": {
    "colab": {
     "base_uri": "https://localhost:8080/"
    },
    "executionInfo": {
     "elapsed": 379,
     "status": "ok",
     "timestamp": 1730699259894,
     "user": {
      "displayName": "Alexander Booth",
      "userId": "02269714993535573104"
     },
     "user_tz": 360
    },
    "id": "VsMoaQlgGc3U",
    "outputId": "636c85ba-ee63-4087-b7d1-00b408f1055a"
   },
   "outputs": [
    {
     "name": "stdout",
     "output_type": "stream",
     "text": [
      "\u001b[1m10/10\u001b[0m \u001b[32m━━━━━━━━━━━━━━━━━━━━\u001b[0m\u001b[37m\u001b[0m \u001b[1m0s\u001b[0m 4ms/step - attrition_output_accuracy: 0.8086 - attrition_output_loss: 1.1778 - department_output_accuracy: 0.5203 - department_output_loss: 2.2202 - loss: 3.4361 \n",
      "Test Accuracy: 0.8095238208770752\n",
      "Loss: 3.264738082885742, Department Loss: 1.9849714040756226, Attrition Loss: 1.070076584815979\n",
      "Department Accuracy: 0.8095238208770752, Attrition Accuracy: 0.5510203838348389\n"
     ]
    }
   ],
   "source": [
    "# Evaluate the model with the testing data\n",
    "evaluation = model.evaluate(X_test_scaled,\n",
    "                            {'department_output': y_test_encoded, 'attrition_output': y_test_attrition_encoded},\n",
    "                             verbose=1)\n",
    "\n",
    "#print the evaluation results\n",
    "print(f\"Test Accuracy: {evaluation[3]}\")\n",
    "\n",
    "#extract the specific loss and accuracy values\n",
    "loss = evaluation[0]\n",
    "department_loss = evaluation[1]\n",
    "attrition_loss = evaluation[2]\n",
    "department_accuracy = evaluation[3]\n",
    "attrition_accuracy = evaluation[4]\n",
    "\n",
    "print(f\"Loss: {loss}, Department Loss: {department_loss}, Attrition Loss: {attrition_loss}\")\n",
    "print(f\"Department Accuracy: {department_accuracy}, Attrition Accuracy: {attrition_accuracy}\")\n"
   ]
  },
  {
   "cell_type": "code",
   "execution_count": 44,
   "metadata": {
    "colab": {
     "base_uri": "https://localhost:8080/"
    },
    "executionInfo": {
     "elapsed": 113,
     "status": "ok",
     "timestamp": 1730699260004,
     "user": {
      "displayName": "Alexander Booth",
      "userId": "02269714993535573104"
     },
     "user_tz": 360
    },
    "id": "ZlCtlHi0Vt54",
    "outputId": "3a32435c-11cf-48da-81b5-1431d6c00da2"
   },
   "outputs": [
    {
     "name": "stdout",
     "output_type": "stream",
     "text": [
      "\u001b[1m10/10\u001b[0m \u001b[32m━━━━━━━━━━━━━━━━━━━━\u001b[0m\u001b[37m\u001b[0m \u001b[1m0s\u001b[0m 8ms/step\n",
      "Department Accuracy: 0.5510204081632653\n",
      "\u001b[1m10/10\u001b[0m \u001b[32m━━━━━━━━━━━━━━━━━━━━\u001b[0m\u001b[37m\u001b[0m \u001b[1m0s\u001b[0m 2ms/step \n",
      "Attrition Accuracy: 0.8095238095238095\n"
     ]
    }
   ],
   "source": [
    "# Print the accuracy for both department and attrition\n",
    "department_prediction = model.predict(X_test_scaled)[0]\n",
    "department_accuracy = np.mean(np.argmax(y_test_encoded, axis=1) == np.argmax(department_prediction, axis=1))\n",
    "print(f\"Department Accuracy: {department_accuracy}\")\n",
    "\n",
    "attrition_prediction = model.predict(X_test_scaled)[1]\n",
    "attrition_accuracy = np.mean(np.argmax(y_test_attrition_encoded, axis=1) == np.argmax(attrition_prediction, axis=1))\n",
    "print(f\"Attrition Accuracy: {attrition_accuracy}\")\n"
   ]
  },
  {
   "cell_type": "markdown",
   "metadata": {
    "id": "eGSyfsZfWOQM"
   },
   "source": [
    "# Summary\n",
    "\n",
    "In the provided space below, briefly answer the following questions.\n",
    "\n",
    "1. Is accuracy the best metric to use on this data? Why or why not?\n",
    "\n",
    "2. What activation functions did you choose for your output layers, and why?\n",
    "\n",
    "3. Can you name a few ways that this model might be improved?"
   ]
  },
  {
   "cell_type": "markdown",
   "metadata": {
    "id": "pi9SLpFnWvbF"
   },
   "source": [
    "Model Evaluation and Improvement\n",
    "\n",
    "1. Is accuracy the best metric to use on this data? Why or why not?\n",
    "    * **No**, accuracy is not the most reliable metric because it doesn't address class imbalances. For instance, if the number of employees who leave the company (attrition) is significantly lower than those who stay, accuracy can be deceptive. Metrics like precision, recall, and F1-score offer better insights into the model's performance, particularly for minority classes. These metrics take into account true positives, false positives, and false negatives, providing a more comprehensive evaluation of the model's effectiveness.\n",
    "2. What activation functions did you choose for your output layers, and why?\n",
    "    * **Softmax** is applied to both department_output and attrition_output. For department_output, it handles multi-class classification by ensuring the outputs sum to 1, representing probabilities for each class. For attrition_output, despite being a binary classification, softmax is used to obtain probabilities for each class (Yes/No). This helps interpret the outputs as the likelihood of each class, aiding in better decision-making based on predicted probabilities.\n",
    "3. Can you name a few ways that this model might be improved?\n",
    "    * **Expand Data Collection**: Gather more training data to enhance the model's ability to generalize. This can include accumulating additional employee data over time or sourcing it from various channels.\n",
    "    * **Enhance Features**: Improve input data by adding or modifying features. For example, create new metrics like the ratio of total working years to years at the company, or represent tenure in months instead of years.\n",
    "    * **Optimize Hyperparameters**: Fine-tune parameters such as learning rates, batch sizes, and the number of neurons/layers. Experiment with different settings to identify the optimal combination for better model performance.\n",
    "    * **Apply Regularization**: Use techniques like dropout or L2 regularization to avoid overfitting. Dropout randomly excludes some neurons during training to increase robustness, while L2 regularization imposes a penalty on large weights.\n",
    "    * **Explore Alternative Architectures**: Test various neural network structures or other machine learning models. For instance, employ convolutional neural networks (CNNs) for feature extraction or use ensemble methods like random forests and gradient boosting to achieve higher accuracy."
   ]
  },
  {
   "cell_type": "code",
   "execution_count": 17,
   "metadata": {
    "executionInfo": {
     "elapsed": 3,
     "status": "ok",
     "timestamp": 1730699260004,
     "user": {
      "displayName": "Alexander Booth",
      "userId": "02269714993535573104"
     },
     "user_tz": 360
    },
    "id": "ZuQWjGgGXZ3C"
   },
   "outputs": [],
   "source": []
  }
 ],
 "metadata": {
  "colab": {
   "provenance": []
  },
  "kernelspec": {
   "display_name": "base",
   "language": "python",
   "name": "python3"
  },
  "language_info": {
   "codemirror_mode": {
    "name": "ipython",
    "version": 3
   },
   "file_extension": ".py",
   "mimetype": "text/x-python",
   "name": "python",
   "nbconvert_exporter": "python",
   "pygments_lexer": "ipython3",
   "version": "3.12.4"
  }
 },
 "nbformat": 4,
 "nbformat_minor": 0
}
